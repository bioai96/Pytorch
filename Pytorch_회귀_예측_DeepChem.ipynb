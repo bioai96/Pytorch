{
  "nbformat": 4,
  "nbformat_minor": 0,
  "metadata": {
    "colab": {
      "provenance": [],
      "machine_shape": "hm",
      "authorship_tag": "ABX9TyOzW7G29oOV2NqS9jzGsLg1",
      "include_colab_link": true
    },
    "kernelspec": {
      "name": "python3",
      "display_name": "Python 3"
    },
    "language_info": {
      "name": "python"
    },
    "accelerator": "TPU"
  },
  "cells": [
    {
      "cell_type": "markdown",
      "metadata": {
        "id": "view-in-github",
        "colab_type": "text"
      },
      "source": [
        "<a href=\"https://colab.research.google.com/github/bioai96/Pytorch/blob/main/Pytorch_%ED%9A%8C%EA%B7%80_%EC%98%88%EC%B8%A1_DeepChem.ipynb\" target=\"_parent\"><img src=\"https://colab.research.google.com/assets/colab-badge.svg\" alt=\"Open In Colab\"/></a>"
      ]
    },
    {
      "cell_type": "code",
      "execution_count": null,
      "metadata": {
        "id": "MsSJGc5FeCpJ"
      },
      "outputs": [],
      "source": [
        "!wget -q \"http://deepchem.io.s3-website-us-west-1.amazonaws.com/datasets/Lipophilicity.csv\" -O Lipophilicity.csv"
      ]
    },
    {
      "cell_type": "code",
      "source": [
        "import pandas as pd\n",
        "\n",
        "data = pd.read_csv('Lipophilicity.csv')\n",
        "data\n",
        "# exp : log P 값 얼마나 지질 요소가 높은지 "
      ],
      "metadata": {
        "colab": {
          "base_uri": "https://localhost:8080/",
          "height": 424
        },
        "id": "lpuNcfy3eSQQ",
        "outputId": "e9ea1c28-c177-41ed-ed02-8de2dcadc33a"
      },
      "execution_count": null,
      "outputs": [
        {
          "output_type": "execute_result",
          "data": {
            "text/plain": [
              "      CMPD_CHEMBLID   exp                                             smiles\n",
              "0      CHEMBL596271  3.54            Cn1c(CN2CCN(CC2)c3ccc(Cl)cc3)nc4ccccc14\n",
              "1     CHEMBL1951080 -1.18  COc1cc(OC)c(cc1NC(=O)CSCC(=O)O)S(=O)(=O)N2C(C)...\n",
              "2        CHEMBL1771  3.69             COC(=O)[C@@H](N1CCc2sccc2C1)c3ccccc3Cl\n",
              "3      CHEMBL234951  3.37  OC[C@H](O)CN1C(=O)C(Cc2ccccc12)NC(=O)c3cc4cc(C...\n",
              "4      CHEMBL565079  3.10  Cc1cccc(C[C@H](NC(=O)c2cc(nn2C)C(C)(C)C)C(=O)N...\n",
              "...             ...   ...                                                ...\n",
              "4195   CHEMBL496929  3.85            OCCc1ccc(NC(=O)c2cc3cc(Cl)ccc3[nH]2)cc1\n",
              "4196   CHEMBL199147  3.21  CCN(C1CCN(CCC(c2ccc(F)cc2)c3ccc(F)cc3)CC1)C(=O...\n",
              "4197    CHEMBL15932  2.10                                 COc1cccc2[nH]ncc12\n",
              "4198   CHEMBL558748  2.65                    Clc1ccc2ncccc2c1C(=O)NCC3CCCCC3\n",
              "4199   CHEMBL237889  2.70                 CN1C(=O)C=C(CCc2ccc3ccccc3c2)N=C1N\n",
              "\n",
              "[4200 rows x 3 columns]"
            ],
            "text/html": [
              "\n",
              "  <div id=\"df-3f091f60-456a-4006-a64e-801bc807269f\">\n",
              "    <div class=\"colab-df-container\">\n",
              "      <div>\n",
              "<style scoped>\n",
              "    .dataframe tbody tr th:only-of-type {\n",
              "        vertical-align: middle;\n",
              "    }\n",
              "\n",
              "    .dataframe tbody tr th {\n",
              "        vertical-align: top;\n",
              "    }\n",
              "\n",
              "    .dataframe thead th {\n",
              "        text-align: right;\n",
              "    }\n",
              "</style>\n",
              "<table border=\"1\" class=\"dataframe\">\n",
              "  <thead>\n",
              "    <tr style=\"text-align: right;\">\n",
              "      <th></th>\n",
              "      <th>CMPD_CHEMBLID</th>\n",
              "      <th>exp</th>\n",
              "      <th>smiles</th>\n",
              "    </tr>\n",
              "  </thead>\n",
              "  <tbody>\n",
              "    <tr>\n",
              "      <th>0</th>\n",
              "      <td>CHEMBL596271</td>\n",
              "      <td>3.54</td>\n",
              "      <td>Cn1c(CN2CCN(CC2)c3ccc(Cl)cc3)nc4ccccc14</td>\n",
              "    </tr>\n",
              "    <tr>\n",
              "      <th>1</th>\n",
              "      <td>CHEMBL1951080</td>\n",
              "      <td>-1.18</td>\n",
              "      <td>COc1cc(OC)c(cc1NC(=O)CSCC(=O)O)S(=O)(=O)N2C(C)...</td>\n",
              "    </tr>\n",
              "    <tr>\n",
              "      <th>2</th>\n",
              "      <td>CHEMBL1771</td>\n",
              "      <td>3.69</td>\n",
              "      <td>COC(=O)[C@@H](N1CCc2sccc2C1)c3ccccc3Cl</td>\n",
              "    </tr>\n",
              "    <tr>\n",
              "      <th>3</th>\n",
              "      <td>CHEMBL234951</td>\n",
              "      <td>3.37</td>\n",
              "      <td>OC[C@H](O)CN1C(=O)C(Cc2ccccc12)NC(=O)c3cc4cc(C...</td>\n",
              "    </tr>\n",
              "    <tr>\n",
              "      <th>4</th>\n",
              "      <td>CHEMBL565079</td>\n",
              "      <td>3.10</td>\n",
              "      <td>Cc1cccc(C[C@H](NC(=O)c2cc(nn2C)C(C)(C)C)C(=O)N...</td>\n",
              "    </tr>\n",
              "    <tr>\n",
              "      <th>...</th>\n",
              "      <td>...</td>\n",
              "      <td>...</td>\n",
              "      <td>...</td>\n",
              "    </tr>\n",
              "    <tr>\n",
              "      <th>4195</th>\n",
              "      <td>CHEMBL496929</td>\n",
              "      <td>3.85</td>\n",
              "      <td>OCCc1ccc(NC(=O)c2cc3cc(Cl)ccc3[nH]2)cc1</td>\n",
              "    </tr>\n",
              "    <tr>\n",
              "      <th>4196</th>\n",
              "      <td>CHEMBL199147</td>\n",
              "      <td>3.21</td>\n",
              "      <td>CCN(C1CCN(CCC(c2ccc(F)cc2)c3ccc(F)cc3)CC1)C(=O...</td>\n",
              "    </tr>\n",
              "    <tr>\n",
              "      <th>4197</th>\n",
              "      <td>CHEMBL15932</td>\n",
              "      <td>2.10</td>\n",
              "      <td>COc1cccc2[nH]ncc12</td>\n",
              "    </tr>\n",
              "    <tr>\n",
              "      <th>4198</th>\n",
              "      <td>CHEMBL558748</td>\n",
              "      <td>2.65</td>\n",
              "      <td>Clc1ccc2ncccc2c1C(=O)NCC3CCCCC3</td>\n",
              "    </tr>\n",
              "    <tr>\n",
              "      <th>4199</th>\n",
              "      <td>CHEMBL237889</td>\n",
              "      <td>2.70</td>\n",
              "      <td>CN1C(=O)C=C(CCc2ccc3ccccc3c2)N=C1N</td>\n",
              "    </tr>\n",
              "  </tbody>\n",
              "</table>\n",
              "<p>4200 rows × 3 columns</p>\n",
              "</div>\n",
              "      <button class=\"colab-df-convert\" onclick=\"convertToInteractive('df-3f091f60-456a-4006-a64e-801bc807269f')\"\n",
              "              title=\"Convert this dataframe to an interactive table.\"\n",
              "              style=\"display:none;\">\n",
              "        \n",
              "  <svg xmlns=\"http://www.w3.org/2000/svg\" height=\"24px\"viewBox=\"0 0 24 24\"\n",
              "       width=\"24px\">\n",
              "    <path d=\"M0 0h24v24H0V0z\" fill=\"none\"/>\n",
              "    <path d=\"M18.56 5.44l.94 2.06.94-2.06 2.06-.94-2.06-.94-.94-2.06-.94 2.06-2.06.94zm-11 1L8.5 8.5l.94-2.06 2.06-.94-2.06-.94L8.5 2.5l-.94 2.06-2.06.94zm10 10l.94 2.06.94-2.06 2.06-.94-2.06-.94-.94-2.06-.94 2.06-2.06.94z\"/><path d=\"M17.41 7.96l-1.37-1.37c-.4-.4-.92-.59-1.43-.59-.52 0-1.04.2-1.43.59L10.3 9.45l-7.72 7.72c-.78.78-.78 2.05 0 2.83L4 21.41c.39.39.9.59 1.41.59.51 0 1.02-.2 1.41-.59l7.78-7.78 2.81-2.81c.8-.78.8-2.07 0-2.86zM5.41 20L4 18.59l7.72-7.72 1.47 1.35L5.41 20z\"/>\n",
              "  </svg>\n",
              "      </button>\n",
              "      \n",
              "  <style>\n",
              "    .colab-df-container {\n",
              "      display:flex;\n",
              "      flex-wrap:wrap;\n",
              "      gap: 12px;\n",
              "    }\n",
              "\n",
              "    .colab-df-convert {\n",
              "      background-color: #E8F0FE;\n",
              "      border: none;\n",
              "      border-radius: 50%;\n",
              "      cursor: pointer;\n",
              "      display: none;\n",
              "      fill: #1967D2;\n",
              "      height: 32px;\n",
              "      padding: 0 0 0 0;\n",
              "      width: 32px;\n",
              "    }\n",
              "\n",
              "    .colab-df-convert:hover {\n",
              "      background-color: #E2EBFA;\n",
              "      box-shadow: 0px 1px 2px rgba(60, 64, 67, 0.3), 0px 1px 3px 1px rgba(60, 64, 67, 0.15);\n",
              "      fill: #174EA6;\n",
              "    }\n",
              "\n",
              "    [theme=dark] .colab-df-convert {\n",
              "      background-color: #3B4455;\n",
              "      fill: #D2E3FC;\n",
              "    }\n",
              "\n",
              "    [theme=dark] .colab-df-convert:hover {\n",
              "      background-color: #434B5C;\n",
              "      box-shadow: 0px 1px 3px 1px rgba(0, 0, 0, 0.15);\n",
              "      filter: drop-shadow(0px 1px 2px rgba(0, 0, 0, 0.3));\n",
              "      fill: #FFFFFF;\n",
              "    }\n",
              "  </style>\n",
              "\n",
              "      <script>\n",
              "        const buttonEl =\n",
              "          document.querySelector('#df-3f091f60-456a-4006-a64e-801bc807269f button.colab-df-convert');\n",
              "        buttonEl.style.display =\n",
              "          google.colab.kernel.accessAllowed ? 'block' : 'none';\n",
              "\n",
              "        async function convertToInteractive(key) {\n",
              "          const element = document.querySelector('#df-3f091f60-456a-4006-a64e-801bc807269f');\n",
              "          const dataTable =\n",
              "            await google.colab.kernel.invokeFunction('convertToInteractive',\n",
              "                                                     [key], {});\n",
              "          if (!dataTable) return;\n",
              "\n",
              "          const docLinkHtml = 'Like what you see? Visit the ' +\n",
              "            '<a target=\"_blank\" href=https://colab.research.google.com/notebooks/data_table.ipynb>data table notebook</a>'\n",
              "            + ' to learn more about interactive tables.';\n",
              "          element.innerHTML = '';\n",
              "          dataTable['output_type'] = 'display_data';\n",
              "          await google.colab.output.renderOutput(dataTable, element);\n",
              "          const docLink = document.createElement('div');\n",
              "          docLink.innerHTML = docLinkHtml;\n",
              "          element.appendChild(docLink);\n",
              "        }\n",
              "      </script>\n",
              "    </div>\n",
              "  </div>\n",
              "  "
            ]
          },
          "metadata": {},
          "execution_count": 2
        }
      ]
    },
    {
      "cell_type": "markdown",
      "source": [
        "##SMILES 데이터를 사용해서 molecular fingerprint를 만듬"
      ],
      "metadata": {
        "id": "Im0qNi9demRF"
      }
    },
    {
      "cell_type": "code",
      "source": [
        "!pip install rdkit-pypi"
      ],
      "metadata": {
        "colab": {
          "base_uri": "https://localhost:8080/"
        },
        "id": "kL4tBt8jeX51",
        "outputId": "b0047cb7-fcfc-46d7-b0a7-cc8ee7ed4800"
      },
      "execution_count": null,
      "outputs": [
        {
          "output_type": "stream",
          "name": "stdout",
          "text": [
            "Looking in indexes: https://pypi.org/simple, https://us-python.pkg.dev/colab-wheels/public/simple/\n",
            "Collecting rdkit-pypi\n",
            "  Downloading rdkit_pypi-2022.3.5-cp37-cp37m-manylinux_2_17_x86_64.manylinux2014_x86_64.whl (36.8 MB)\n",
            "\u001b[K     |████████████████████████████████| 36.8 MB 82.3 MB/s \n",
            "\u001b[?25hRequirement already satisfied: numpy in /usr/local/lib/python3.7/dist-packages (from rdkit-pypi) (1.21.6)\n",
            "Requirement already satisfied: Pillow in /usr/local/lib/python3.7/dist-packages (from rdkit-pypi) (7.1.2)\n",
            "Installing collected packages: rdkit-pypi\n",
            "Successfully installed rdkit-pypi-2022.3.5\n"
          ]
        }
      ]
    },
    {
      "cell_type": "code",
      "source": [
        "from rdkit import Chem, DataStructs\n",
        "from rdkit.Chem import AllChem\n",
        "import numpy as np"
      ],
      "metadata": {
        "id": "t6Ll_xK3exAk"
      },
      "execution_count": null,
      "outputs": []
    },
    {
      "cell_type": "code",
      "source": [
        "fps = []\n",
        "for i, smiles in enumerate(data['smiles']):\n",
        "  mol = Chem.MolFromSmiles(smiles)\n",
        "  arr = np.zeros((1,0))\n",
        "  fp = AllChem.GetMorganFingerprintAsBitVect(mol, 2048)\n",
        "  DataStructs.ConvertToNumpyArray(fp, arr)\n",
        "\n",
        "  fps.append(arr)\n",
        "\n",
        "data['fp'] = fps\n",
        "data"
      ],
      "metadata": {
        "colab": {
          "base_uri": "https://localhost:8080/",
          "height": 641
        },
        "id": "ruGyU8kEe2Qb",
        "outputId": "fddf2d71-7b54-473e-d75d-db61022f5233"
      },
      "execution_count": null,
      "outputs": [
        {
          "output_type": "execute_result",
          "data": {
            "text/plain": [
              "      CMPD_CHEMBLID   exp                                             smiles  \\\n",
              "0      CHEMBL596271  3.54            Cn1c(CN2CCN(CC2)c3ccc(Cl)cc3)nc4ccccc14   \n",
              "1     CHEMBL1951080 -1.18  COc1cc(OC)c(cc1NC(=O)CSCC(=O)O)S(=O)(=O)N2C(C)...   \n",
              "2        CHEMBL1771  3.69             COC(=O)[C@@H](N1CCc2sccc2C1)c3ccccc3Cl   \n",
              "3      CHEMBL234951  3.37  OC[C@H](O)CN1C(=O)C(Cc2ccccc12)NC(=O)c3cc4cc(C...   \n",
              "4      CHEMBL565079  3.10  Cc1cccc(C[C@H](NC(=O)c2cc(nn2C)C(C)(C)C)C(=O)N...   \n",
              "...             ...   ...                                                ...   \n",
              "4195   CHEMBL496929  3.85            OCCc1ccc(NC(=O)c2cc3cc(Cl)ccc3[nH]2)cc1   \n",
              "4196   CHEMBL199147  3.21  CCN(C1CCN(CCC(c2ccc(F)cc2)c3ccc(F)cc3)CC1)C(=O...   \n",
              "4197    CHEMBL15932  2.10                                 COc1cccc2[nH]ncc12   \n",
              "4198   CHEMBL558748  2.65                    Clc1ccc2ncccc2c1C(=O)NCC3CCCCC3   \n",
              "4199   CHEMBL237889  2.70                 CN1C(=O)C=C(CCc2ccc3ccccc3c2)N=C1N   \n",
              "\n",
              "                                                     fp  \n",
              "0     [0.0, 0.0, 0.0, 0.0, 0.0, 0.0, 0.0, 0.0, 0.0, ...  \n",
              "1     [0.0, 0.0, 0.0, 1.0, 0.0, 0.0, 0.0, 0.0, 0.0, ...  \n",
              "2     [0.0, 1.0, 0.0, 0.0, 0.0, 0.0, 0.0, 0.0, 0.0, ...  \n",
              "3     [0.0, 1.0, 0.0, 0.0, 0.0, 1.0, 0.0, 0.0, 0.0, ...  \n",
              "4     [0.0, 1.0, 0.0, 1.0, 0.0, 0.0, 0.0, 0.0, 0.0, ...  \n",
              "...                                                 ...  \n",
              "4195  [0.0, 0.0, 0.0, 0.0, 0.0, 0.0, 0.0, 0.0, 0.0, ...  \n",
              "4196  [0.0, 1.0, 0.0, 1.0, 0.0, 0.0, 0.0, 0.0, 0.0, ...  \n",
              "4197  [0.0, 0.0, 0.0, 0.0, 0.0, 0.0, 0.0, 0.0, 0.0, ...  \n",
              "4198  [0.0, 0.0, 1.0, 0.0, 0.0, 0.0, 0.0, 0.0, 0.0, ...  \n",
              "4199  [0.0, 0.0, 0.0, 0.0, 0.0, 0.0, 0.0, 0.0, 0.0, ...  \n",
              "\n",
              "[4200 rows x 4 columns]"
            ],
            "text/html": [
              "\n",
              "  <div id=\"df-f4659075-40cd-4f76-96b1-c09518bb3388\">\n",
              "    <div class=\"colab-df-container\">\n",
              "      <div>\n",
              "<style scoped>\n",
              "    .dataframe tbody tr th:only-of-type {\n",
              "        vertical-align: middle;\n",
              "    }\n",
              "\n",
              "    .dataframe tbody tr th {\n",
              "        vertical-align: top;\n",
              "    }\n",
              "\n",
              "    .dataframe thead th {\n",
              "        text-align: right;\n",
              "    }\n",
              "</style>\n",
              "<table border=\"1\" class=\"dataframe\">\n",
              "  <thead>\n",
              "    <tr style=\"text-align: right;\">\n",
              "      <th></th>\n",
              "      <th>CMPD_CHEMBLID</th>\n",
              "      <th>exp</th>\n",
              "      <th>smiles</th>\n",
              "      <th>fp</th>\n",
              "    </tr>\n",
              "  </thead>\n",
              "  <tbody>\n",
              "    <tr>\n",
              "      <th>0</th>\n",
              "      <td>CHEMBL596271</td>\n",
              "      <td>3.54</td>\n",
              "      <td>Cn1c(CN2CCN(CC2)c3ccc(Cl)cc3)nc4ccccc14</td>\n",
              "      <td>[0.0, 0.0, 0.0, 0.0, 0.0, 0.0, 0.0, 0.0, 0.0, ...</td>\n",
              "    </tr>\n",
              "    <tr>\n",
              "      <th>1</th>\n",
              "      <td>CHEMBL1951080</td>\n",
              "      <td>-1.18</td>\n",
              "      <td>COc1cc(OC)c(cc1NC(=O)CSCC(=O)O)S(=O)(=O)N2C(C)...</td>\n",
              "      <td>[0.0, 0.0, 0.0, 1.0, 0.0, 0.0, 0.0, 0.0, 0.0, ...</td>\n",
              "    </tr>\n",
              "    <tr>\n",
              "      <th>2</th>\n",
              "      <td>CHEMBL1771</td>\n",
              "      <td>3.69</td>\n",
              "      <td>COC(=O)[C@@H](N1CCc2sccc2C1)c3ccccc3Cl</td>\n",
              "      <td>[0.0, 1.0, 0.0, 0.0, 0.0, 0.0, 0.0, 0.0, 0.0, ...</td>\n",
              "    </tr>\n",
              "    <tr>\n",
              "      <th>3</th>\n",
              "      <td>CHEMBL234951</td>\n",
              "      <td>3.37</td>\n",
              "      <td>OC[C@H](O)CN1C(=O)C(Cc2ccccc12)NC(=O)c3cc4cc(C...</td>\n",
              "      <td>[0.0, 1.0, 0.0, 0.0, 0.0, 1.0, 0.0, 0.0, 0.0, ...</td>\n",
              "    </tr>\n",
              "    <tr>\n",
              "      <th>4</th>\n",
              "      <td>CHEMBL565079</td>\n",
              "      <td>3.10</td>\n",
              "      <td>Cc1cccc(C[C@H](NC(=O)c2cc(nn2C)C(C)(C)C)C(=O)N...</td>\n",
              "      <td>[0.0, 1.0, 0.0, 1.0, 0.0, 0.0, 0.0, 0.0, 0.0, ...</td>\n",
              "    </tr>\n",
              "    <tr>\n",
              "      <th>...</th>\n",
              "      <td>...</td>\n",
              "      <td>...</td>\n",
              "      <td>...</td>\n",
              "      <td>...</td>\n",
              "    </tr>\n",
              "    <tr>\n",
              "      <th>4195</th>\n",
              "      <td>CHEMBL496929</td>\n",
              "      <td>3.85</td>\n",
              "      <td>OCCc1ccc(NC(=O)c2cc3cc(Cl)ccc3[nH]2)cc1</td>\n",
              "      <td>[0.0, 0.0, 0.0, 0.0, 0.0, 0.0, 0.0, 0.0, 0.0, ...</td>\n",
              "    </tr>\n",
              "    <tr>\n",
              "      <th>4196</th>\n",
              "      <td>CHEMBL199147</td>\n",
              "      <td>3.21</td>\n",
              "      <td>CCN(C1CCN(CCC(c2ccc(F)cc2)c3ccc(F)cc3)CC1)C(=O...</td>\n",
              "      <td>[0.0, 1.0, 0.0, 1.0, 0.0, 0.0, 0.0, 0.0, 0.0, ...</td>\n",
              "    </tr>\n",
              "    <tr>\n",
              "      <th>4197</th>\n",
              "      <td>CHEMBL15932</td>\n",
              "      <td>2.10</td>\n",
              "      <td>COc1cccc2[nH]ncc12</td>\n",
              "      <td>[0.0, 0.0, 0.0, 0.0, 0.0, 0.0, 0.0, 0.0, 0.0, ...</td>\n",
              "    </tr>\n",
              "    <tr>\n",
              "      <th>4198</th>\n",
              "      <td>CHEMBL558748</td>\n",
              "      <td>2.65</td>\n",
              "      <td>Clc1ccc2ncccc2c1C(=O)NCC3CCCCC3</td>\n",
              "      <td>[0.0, 0.0, 1.0, 0.0, 0.0, 0.0, 0.0, 0.0, 0.0, ...</td>\n",
              "    </tr>\n",
              "    <tr>\n",
              "      <th>4199</th>\n",
              "      <td>CHEMBL237889</td>\n",
              "      <td>2.70</td>\n",
              "      <td>CN1C(=O)C=C(CCc2ccc3ccccc3c2)N=C1N</td>\n",
              "      <td>[0.0, 0.0, 0.0, 0.0, 0.0, 0.0, 0.0, 0.0, 0.0, ...</td>\n",
              "    </tr>\n",
              "  </tbody>\n",
              "</table>\n",
              "<p>4200 rows × 4 columns</p>\n",
              "</div>\n",
              "      <button class=\"colab-df-convert\" onclick=\"convertToInteractive('df-f4659075-40cd-4f76-96b1-c09518bb3388')\"\n",
              "              title=\"Convert this dataframe to an interactive table.\"\n",
              "              style=\"display:none;\">\n",
              "        \n",
              "  <svg xmlns=\"http://www.w3.org/2000/svg\" height=\"24px\"viewBox=\"0 0 24 24\"\n",
              "       width=\"24px\">\n",
              "    <path d=\"M0 0h24v24H0V0z\" fill=\"none\"/>\n",
              "    <path d=\"M18.56 5.44l.94 2.06.94-2.06 2.06-.94-2.06-.94-.94-2.06-.94 2.06-2.06.94zm-11 1L8.5 8.5l.94-2.06 2.06-.94-2.06-.94L8.5 2.5l-.94 2.06-2.06.94zm10 10l.94 2.06.94-2.06 2.06-.94-2.06-.94-.94-2.06-.94 2.06-2.06.94z\"/><path d=\"M17.41 7.96l-1.37-1.37c-.4-.4-.92-.59-1.43-.59-.52 0-1.04.2-1.43.59L10.3 9.45l-7.72 7.72c-.78.78-.78 2.05 0 2.83L4 21.41c.39.39.9.59 1.41.59.51 0 1.02-.2 1.41-.59l7.78-7.78 2.81-2.81c.8-.78.8-2.07 0-2.86zM5.41 20L4 18.59l7.72-7.72 1.47 1.35L5.41 20z\"/>\n",
              "  </svg>\n",
              "      </button>\n",
              "      \n",
              "  <style>\n",
              "    .colab-df-container {\n",
              "      display:flex;\n",
              "      flex-wrap:wrap;\n",
              "      gap: 12px;\n",
              "    }\n",
              "\n",
              "    .colab-df-convert {\n",
              "      background-color: #E8F0FE;\n",
              "      border: none;\n",
              "      border-radius: 50%;\n",
              "      cursor: pointer;\n",
              "      display: none;\n",
              "      fill: #1967D2;\n",
              "      height: 32px;\n",
              "      padding: 0 0 0 0;\n",
              "      width: 32px;\n",
              "    }\n",
              "\n",
              "    .colab-df-convert:hover {\n",
              "      background-color: #E2EBFA;\n",
              "      box-shadow: 0px 1px 2px rgba(60, 64, 67, 0.3), 0px 1px 3px 1px rgba(60, 64, 67, 0.15);\n",
              "      fill: #174EA6;\n",
              "    }\n",
              "\n",
              "    [theme=dark] .colab-df-convert {\n",
              "      background-color: #3B4455;\n",
              "      fill: #D2E3FC;\n",
              "    }\n",
              "\n",
              "    [theme=dark] .colab-df-convert:hover {\n",
              "      background-color: #434B5C;\n",
              "      box-shadow: 0px 1px 3px 1px rgba(0, 0, 0, 0.15);\n",
              "      filter: drop-shadow(0px 1px 2px rgba(0, 0, 0, 0.3));\n",
              "      fill: #FFFFFF;\n",
              "    }\n",
              "  </style>\n",
              "\n",
              "      <script>\n",
              "        const buttonEl =\n",
              "          document.querySelector('#df-f4659075-40cd-4f76-96b1-c09518bb3388 button.colab-df-convert');\n",
              "        buttonEl.style.display =\n",
              "          google.colab.kernel.accessAllowed ? 'block' : 'none';\n",
              "\n",
              "        async function convertToInteractive(key) {\n",
              "          const element = document.querySelector('#df-f4659075-40cd-4f76-96b1-c09518bb3388');\n",
              "          const dataTable =\n",
              "            await google.colab.kernel.invokeFunction('convertToInteractive',\n",
              "                                                     [key], {});\n",
              "          if (!dataTable) return;\n",
              "\n",
              "          const docLinkHtml = 'Like what you see? Visit the ' +\n",
              "            '<a target=\"_blank\" href=https://colab.research.google.com/notebooks/data_table.ipynb>data table notebook</a>'\n",
              "            + ' to learn more about interactive tables.';\n",
              "          element.innerHTML = '';\n",
              "          dataTable['output_type'] = 'display_data';\n",
              "          await google.colab.output.renderOutput(dataTable, element);\n",
              "          const docLink = document.createElement('div');\n",
              "          docLink.innerHTML = docLinkHtml;\n",
              "          element.appendChild(docLink);\n",
              "        }\n",
              "      </script>\n",
              "    </div>\n",
              "  </div>\n",
              "  "
            ]
          },
          "metadata": {},
          "execution_count": 5
        }
      ]
    },
    {
      "cell_type": "markdown",
      "source": [
        "### Train Test split"
      ],
      "metadata": {
        "id": "Aqf9vUstfyOn"
      }
    },
    {
      "cell_type": "code",
      "source": [
        "from sklearn.model_selection import train_test_split\n",
        "\n",
        "train_val, test = train_test_split(data, test_size=0.1, random_state=42)\n",
        "train, val = train_test_split(train_val, test_size=0.1/0.9, random_state=42)\n",
        "\n",
        "datasets = {\n",
        "    \"train\": train,\n",
        "    \"val\":  val,\n",
        "    \"test\": test\n",
        "}\n",
        "\n",
        "datasets"
      ],
      "metadata": {
        "colab": {
          "base_uri": "https://localhost:8080/"
        },
        "id": "1A17FtwSfbxM",
        "outputId": "c5bfd9fb-3a4b-4392-9a0c-e74083c82ea7"
      },
      "execution_count": null,
      "outputs": [
        {
          "output_type": "execute_result",
          "data": {
            "text/plain": [
              "{'train':       CMPD_CHEMBLID   exp                                             smiles  \\\n",
              " 2224  CHEMBL2005730  3.20        COC(=O)c1ccc(NC(=O)c2cc(OC)c(OC)c(OC)c2)cc1   \n",
              " 3302   CHEMBL412142  3.86  Cc1c[nH]c(n1)c2cnc(NCCNc3ccc(cn3)C#N)nc2c4ccc(...   \n",
              " 1489  CHEMBL1900501  3.09                       Oc1ccc(C(=O)Cc2ccccc2)c(O)c1   \n",
              " 2998   CHEMBL117869  0.66  COC(=O)c1c(O)cccc1OC\\C=C\\c2ccc(F)c(c2)c3onc(c3...   \n",
              " 3297   CHEMBL495841  2.20       Nc1cccc(NS(=O)(=O)c2ccc(cc2)c3ccc(cc3)C#N)n1   \n",
              " ...             ...   ...                                                ...   \n",
              " 1284  CHEMBL1427554  2.59                        Cc1ccc(cc1)c2csc3ncnc(O)c23   \n",
              " 3125   CHEMBL177756  0.00       OC(=O)c1ccccc1C2=C3C=CC(=O)C=C3Oc4cc(O)ccc24   \n",
              " 2929   CHEMBL383669  3.80  CC(C)CN1C(=O)N(C)C(=O)c2c1sc(Cc3ccccc3C(F)(F)F...   \n",
              " 1682  CHEMBL1778624  0.90             OC(=O)COc1ccc(cc1c2ccc(Cl)cc2)C(F)(F)F   \n",
              " 1516  CHEMBL1084327  1.18  OC(=O)CC(=O)N[C@H]1[C@@H](Cc2ccccc12)NC(=O)c3c...   \n",
              " \n",
              "                                                      fp  \n",
              " 2224  [0.0, 0.0, 0.0, 0.0, 0.0, 0.0, 0.0, 0.0, 0.0, ...  \n",
              " 3302  [0.0, 0.0, 0.0, 0.0, 1.0, 0.0, 0.0, 0.0, 0.0, ...  \n",
              " 1489  [0.0, 0.0, 0.0, 0.0, 0.0, 0.0, 0.0, 0.0, 0.0, ...  \n",
              " 2998  [0.0, 0.0, 0.0, 0.0, 0.0, 0.0, 0.0, 0.0, 0.0, ...  \n",
              " 3297  [0.0, 0.0, 0.0, 0.0, 1.0, 0.0, 0.0, 0.0, 0.0, ...  \n",
              " ...                                                 ...  \n",
              " 1284  [0.0, 0.0, 0.0, 0.0, 0.0, 0.0, 0.0, 0.0, 0.0, ...  \n",
              " 3125  [0.0, 0.0, 0.0, 0.0, 0.0, 0.0, 0.0, 0.0, 0.0, ...  \n",
              " 2929  [0.0, 1.0, 0.0, 0.0, 0.0, 0.0, 0.0, 0.0, 0.0, ...  \n",
              " 1682  [0.0, 0.0, 0.0, 0.0, 0.0, 0.0, 0.0, 0.0, 0.0, ...  \n",
              " 1516  [0.0, 0.0, 0.0, 0.0, 0.0, 0.0, 0.0, 0.0, 0.0, ...  \n",
              " \n",
              " [3359 rows x 4 columns],\n",
              " 'val':       CMPD_CHEMBLID   exp                                             smiles  \\\n",
              " 1615  CHEMBL1868126  3.96                    COc1cccc2sc(NC(=O)c3ccccc3)nc12   \n",
              " 2958   CHEMBL570002  1.96    C[C@H](Nc1nc(Nc2cc(C)[nH]n2)cnc1C#N)c3ncc(F)cn3   \n",
              " 925   CHEMBL1762536  3.80  CN(c1ccnc(Nc2cc(cc(c2)N3CCOCC3)N4CCCC4)n1)c5cc...   \n",
              " 603   CHEMBL2036594  2.80     COc1cccc(Nc2oc(nn2)C(=O)Nc3ccc(nc3)N4CCOCC4)c1   \n",
              " 1143  CHEMBL1650723  2.53   COc1cc(Nc2nc(N[C@@H](C)c3ncc(F)cn3)ncc2Cl)n[nH]1   \n",
              " ...             ...   ...                                                ...   \n",
              " 1673  CHEMBL2097971  3.90            COc1ccc2nc(C)cc(OCC(=O)Nc3ccccc3OC)c2c1   \n",
              " 4140   CHEMBL512607  0.58                      CC(C)(C)C(=O)N[C@H]1CCCCNC1=O   \n",
              " 2809   CHEMBL597803  2.80  CN(Cc1ccc(Cl)cc1)C(=O)C2(N)CCN(CC2)c3ncnc4[nH]...   \n",
              " 749   CHEMBL2177390  1.30  CC(C)NC[C@@H](C(=O)N1CCN(CC1)c2ncnc3[C@H](O)C[...   \n",
              " 1553   CHEMBL253969  2.50  NC(=O)c1c(NC(=O)NCCCCN2CCCC2)snc1OCc3c(F)cc(Br...   \n",
              " \n",
              "                                                      fp  \n",
              " 1615  [0.0, 0.0, 0.0, 0.0, 0.0, 0.0, 0.0, 0.0, 0.0, ...  \n",
              " 2958  [0.0, 1.0, 0.0, 0.0, 0.0, 0.0, 0.0, 0.0, 0.0, ...  \n",
              " 925   [0.0, 0.0, 0.0, 0.0, 0.0, 0.0, 0.0, 0.0, 1.0, ...  \n",
              " 603   [0.0, 0.0, 0.0, 0.0, 0.0, 0.0, 0.0, 0.0, 0.0, ...  \n",
              " 1143  [0.0, 1.0, 0.0, 0.0, 0.0, 0.0, 0.0, 0.0, 0.0, ...  \n",
              " ...                                                 ...  \n",
              " 1673  [0.0, 0.0, 0.0, 0.0, 0.0, 0.0, 0.0, 0.0, 0.0, ...  \n",
              " 4140  [0.0, 0.0, 0.0, 0.0, 0.0, 0.0, 0.0, 0.0, 0.0, ...  \n",
              " 2809  [0.0, 0.0, 0.0, 0.0, 0.0, 0.0, 0.0, 0.0, 0.0, ...  \n",
              " 749   [0.0, 1.0, 0.0, 0.0, 0.0, 0.0, 0.0, 0.0, 0.0, ...  \n",
              " 1553  [0.0, 0.0, 0.0, 1.0, 0.0, 0.0, 0.0, 0.0, 0.0, ...  \n",
              " \n",
              " [421 rows x 4 columns],\n",
              " 'test':       CMPD_CHEMBLID   exp                                             smiles  \\\n",
              " 1743  CHEMBL1431112  3.00      Clc1ccc2NC(=O)CN(C(c3ccccc3)c2c1)C(=O)c4occc4   \n",
              " 2196  CHEMBL1322675  1.69             CCCNC[C@H](O)COc1ccccc1C(=O)CCc2ccccc2   \n",
              " 1728  CHEMBL2030964  0.78  CNc1cccc(CCCc2ccc(C[C@H](NC(=O)c3c(Cl)cccc3Cl)...   \n",
              " 3337  CHEMBL1381989  1.29                   CC1(C)CNC(=O)c2sc(nc2C1)N3CCOCC3   \n",
              " 298     CHEMBL74582  3.07  C[C@@](O)(C(=O)Nc1ccc(cc1Cl)S(=O)(=O)NCC=C)C(F...   \n",
              " ...             ...   ...                                                ...   \n",
              " 3949   CHEMBL203059  3.70        O=C(Nc1cc(ccn1)c2ccnc(Nc3ccccc3)c2)C4CCOCC4   \n",
              " 174   CHEMBL2181927  2.51  CCOc1ncc(C)c2NC(=C([C@@H](c3ccc(cc3OC)C#N)c12)...   \n",
              " 393   CHEMBL1721498  2.72              Clc1ccc(cc1)C(=O)C2CCN(CC2)C(=O)C3CC3   \n",
              " 3721  CHEMBL2158838  2.86  OC(=O)[C@H](Cc1ccc(Cl)cc1)N2CCC(CN3CCC(CC3)Oc4...   \n",
              " 3713   CHEMBL335749  3.02  CC(=O)NC[C@H]1CN(C(=O)O1)c2ccc(N3Cc4ccncc4C3)c...   \n",
              " \n",
              "                                                      fp  \n",
              " 1743  [0.0, 0.0, 0.0, 0.0, 0.0, 0.0, 0.0, 0.0, 0.0, ...  \n",
              " 2196  [0.0, 1.0, 0.0, 0.0, 0.0, 0.0, 0.0, 0.0, 0.0, ...  \n",
              " 1728  [0.0, 1.0, 0.0, 0.0, 0.0, 0.0, 0.0, 0.0, 0.0, ...  \n",
              " 3337  [0.0, 0.0, 0.0, 0.0, 0.0, 0.0, 0.0, 0.0, 0.0, ...  \n",
              " 298   [0.0, 0.0, 0.0, 0.0, 0.0, 0.0, 0.0, 0.0, 0.0, ...  \n",
              " ...                                                 ...  \n",
              " 3949  [0.0, 0.0, 0.0, 0.0, 0.0, 0.0, 0.0, 0.0, 0.0, ...  \n",
              " 174   [0.0, 0.0, 0.0, 0.0, 0.0, 0.0, 0.0, 0.0, 0.0, ...  \n",
              " 393   [0.0, 0.0, 0.0, 0.0, 0.0, 0.0, 0.0, 0.0, 0.0, ...  \n",
              " 3721  [0.0, 1.0, 0.0, 0.0, 0.0, 0.0, 0.0, 0.0, 0.0, ...  \n",
              " 3713  [0.0, 0.0, 0.0, 0.0, 0.0, 0.0, 0.0, 0.0, 1.0, ...  \n",
              " \n",
              " [420 rows x 4 columns]}"
            ]
          },
          "metadata": {},
          "execution_count": 9
        }
      ]
    },
    {
      "cell_type": "code",
      "source": [],
      "metadata": {
        "id": "RDsF0cL2foq7"
      },
      "execution_count": null,
      "outputs": []
    },
    {
      "cell_type": "markdown",
      "source": [
        "### 커스텀데이터세트 만들기"
      ],
      "metadata": {
        "id": "RpAQ80jhgUUZ"
      }
    },
    {
      "cell_type": "code",
      "source": [
        "import torch\n",
        "from torch.utils.data import Dataset\n",
        "\n",
        "class LipoDataset(Dataset) :\n",
        "    def __init__(self,df):\n",
        "      self.x = list(df['fp'])\n",
        "      self.y = list(df['exp'].values)\n",
        "\n",
        "    def __len__(self):\n",
        "      return len(self.x)\n",
        "\n",
        "    def __getitem__(self, index):\n",
        "      return torch.tensor(self.x[index]).float(), torch.tensor(self.y[index]).float()\n",
        "\n",
        "lipodata = {\n",
        "    \"train\" : LipoDataset(datasets[\"train\"]),\n",
        "    \"val\": LipoDataset(datasets[\"val\"]),\n",
        "    \"test\": LipoDataset(datasets[\"test\"]),\n",
        "}\n",
        "\n",
        "lipodata"
      ],
      "metadata": {
        "colab": {
          "base_uri": "https://localhost:8080/"
        },
        "id": "wljEKGJUgXLF",
        "outputId": "13499036-c637-4c4b-a637-7127d4888538"
      },
      "execution_count": null,
      "outputs": [
        {
          "output_type": "execute_result",
          "data": {
            "text/plain": [
              "{'train': <__main__.LipoDataset at 0x7efb8119bb10>,\n",
              " 'val': <__main__.LipoDataset at 0x7efb8119b350>,\n",
              " 'test': <__main__.LipoDataset at 0x7efb8119b850>}"
            ]
          },
          "metadata": {},
          "execution_count": 31
        }
      ]
    },
    {
      "cell_type": "markdown",
      "source": [
        "### MLP 모델 만들기"
      ],
      "metadata": {
        "id": "gVJobNchhL4z"
      }
    },
    {
      "cell_type": "code",
      "source": [
        "import torch.nn as nn \n",
        "\n",
        "class MLP(nn.Module):\n",
        "\n",
        "  def __init__(self):\n",
        "    super(MLP, self).__init__()\n",
        "\n",
        "    self.linear1 = nn.Linear(2048,1024)\n",
        "    self.linear2 = nn.Linear(1024,256)\n",
        "    self.output = nn.Linear(256,1)\n",
        "    self.dropout1 = nn.Dropout(0.5)\n",
        "    self.relu = nn.ReLU()\n",
        "\n",
        "  def forward(self,x):\n",
        "    out = self.linear1(x)\n",
        "    out = self.dropout1(out)\n",
        "    out = self.relu(out)\n",
        "    out = self.linear2(out)\n",
        "    out = self.dropout1(out)\n",
        "    out = self.relu(out)\n",
        "    out = self.output(out)\n",
        "    return out\n",
        "\n",
        "  \n",
        "model = MLP()\n",
        "model\n"
      ],
      "metadata": {
        "colab": {
          "base_uri": "https://localhost:8080/"
        },
        "id": "803-UOhxgX_4",
        "outputId": "4103e6a8-166b-4f45-8b9a-0b37fba5c646"
      },
      "execution_count": null,
      "outputs": [
        {
          "output_type": "execute_result",
          "data": {
            "text/plain": [
              "MLP(\n",
              "  (linear1): Linear(in_features=2048, out_features=1024, bias=True)\n",
              "  (linear2): Linear(in_features=1024, out_features=256, bias=True)\n",
              "  (output): Linear(in_features=256, out_features=1, bias=True)\n",
              "  (dropout1): Dropout(p=0.5, inplace=False)\n",
              "  (relu): ReLU()\n",
              ")"
            ]
          },
          "metadata": {},
          "execution_count": 32
        }
      ]
    },
    {
      "cell_type": "code",
      "source": [
        "## 모델 GPU에 올리기 \n",
        "# device = torch.device(\"cuda:0\" if torch.cuda.is_available() else \"cpu\")\n",
        "\n",
        "# model.to(device)\n"
      ],
      "metadata": {
        "id": "JLnrkjhKiOVG"
      },
      "execution_count": null,
      "outputs": []
    },
    {
      "cell_type": "markdown",
      "source": [
        "### 데이터 로더 만들기"
      ],
      "metadata": {
        "id": "gRgtcUwfihUr"
      }
    },
    {
      "cell_type": "code",
      "source": [
        "from torch.utils.data import DataLoader \n",
        "\n",
        "dataloaders = {\n",
        "    \"train\" : DataLoader(lipodata[\"train\"], batch_size=32, shuffle=True),\n",
        "    \"val\" : DataLoader(lipodata[\"val\"], batch_size=32, shuffle=False),\n",
        "    \"test\" : DataLoader(lipodata[\"test\"], batch_size=32, shuffle=False),\n",
        "}\n",
        "dataloaders"
      ],
      "metadata": {
        "colab": {
          "base_uri": "https://localhost:8080/"
        },
        "id": "MKvf6BNzifkS",
        "outputId": "f44e2de8-9308-4f27-8bff-8afb3d5fd8cf"
      },
      "execution_count": null,
      "outputs": [
        {
          "output_type": "execute_result",
          "data": {
            "text/plain": [
              "{'train': <torch.utils.data.dataloader.DataLoader at 0x7efb811f73d0>,\n",
              " 'val': <torch.utils.data.dataloader.DataLoader at 0x7efb811f7110>,\n",
              " 'test': <torch.utils.data.dataloader.DataLoader at 0x7efb811f7d90>}"
            ]
          },
          "metadata": {},
          "execution_count": 34
        }
      ]
    },
    {
      "cell_type": "code",
      "source": [
        "for data in dataloaders[\"train\"]:\n",
        "    x, y = data\n",
        "\n",
        "print(y[:10])"
      ],
      "metadata": {
        "colab": {
          "base_uri": "https://localhost:8080/"
        },
        "id": "bDRFRvIni7L2",
        "outputId": "473d9335-325a-4283-9abd-5f8ab7e22639"
      },
      "execution_count": null,
      "outputs": [
        {
          "output_type": "stream",
          "name": "stdout",
          "text": [
            "tensor([-1.3600,  1.9700,  3.2100,  1.8600,  3.5000, -0.9700,  2.8800,  2.7000,\n",
            "        -0.4200,  3.4000])\n"
          ]
        }
      ]
    },
    {
      "cell_type": "markdown",
      "source": [
        "### 모델 학습하기"
      ],
      "metadata": {
        "id": "kObdPoZFkqTG"
      }
    },
    {
      "cell_type": "code",
      "source": [
        "# 최적화 함수 정의\n",
        "import torch.optim as optim\n",
        "\n",
        "loss_fn = nn.MSELoss() # MEAN Squared Error \n",
        "optimizer = optim.Adam(model.parameters(), lr = 0.005)"
      ],
      "metadata": {
        "id": "iXytpKXji80k"
      },
      "execution_count": null,
      "outputs": []
    },
    {
      "cell_type": "code",
      "source": [
        "torch.manual_seed(42)\n",
        "\n",
        "epochs = 51\n",
        "train_losses = []\n",
        "val_losses = []\n",
        "\n",
        "\n",
        "for epoch in range(epochs):\n",
        "    model.train()\n",
        "    epoch_train_loss = 0.0\n",
        "    for i, data in enumerate(dataloaders[\"train\"]):\n",
        "        x, y = data[0], data[1]\n",
        "        optimizer.zero_grad()\n",
        "\n",
        "        outputs = model(x)\n",
        "        train_loss = loss_fn(outputs, y.view(-1, 1))\n",
        "        train_loss.backward()\n",
        "        optimizer.step()\n",
        "        \n",
        "        epoch_train_loss += train_loss.item()\n",
        "        \n",
        "    model.eval()\n",
        "    epoch_val_loss = 0.0\n",
        "    with torch.inference_mode():\n",
        "        for i, data in enumerate(dataloaders[\"val\"]):\n",
        "            x, y = data[0], data[1]\n",
        "                        \n",
        "            outputs = model(x)\n",
        "            val_loss = loss_fn(outputs, y.view(-1, 1))\n",
        "            epoch_val_loss += val_loss.item()\n",
        "            \n",
        "    epoch_train_loss /= len(dataloaders[\"train\"])\n",
        "    epoch_val_loss /= len(dataloaders[\"val\"])\n",
        "    train_losses.append(epoch_train_loss)\n",
        "    val_losses.append(epoch_val_loss)\n",
        "    \n",
        "    if epoch % 10 == 0:\n",
        "        print(\"[Epoch %d] Train Loss: %.3f  Validation Loss: %.3f\" %\n",
        "              (epoch, epoch_train_loss, epoch_val_loss))"
      ],
      "metadata": {
        "colab": {
          "base_uri": "https://localhost:8080/"
        },
        "id": "bwnl6I_TlELl",
        "outputId": "7ed6a57d-477b-40f7-9038-d055f534541e"
      },
      "execution_count": null,
      "outputs": [
        {
          "output_type": "stream",
          "name": "stdout",
          "text": [
            "[Epoch 0] Train Loss: 0.539  Validation Loss: 0.780\n",
            "[Epoch 10] Train Loss: 0.573  Validation Loss: 0.812\n",
            "[Epoch 20] Train Loss: 0.531  Validation Loss: 0.701\n",
            "[Epoch 30] Train Loss: 0.468  Validation Loss: 0.692\n",
            "[Epoch 40] Train Loss: 0.488  Validation Loss: 0.727\n",
            "[Epoch 50] Train Loss: 0.535  Validation Loss: 0.714\n"
          ]
        }
      ]
    },
    {
      "cell_type": "markdown",
      "source": [
        "### 결과"
      ],
      "metadata": {
        "id": "_oR9R_kTlm-v"
      }
    },
    {
      "cell_type": "code",
      "source": [
        "import matplotlib.pyplot as plt\n",
        "\n",
        "epoch_count = range(epochs)\n",
        "plt.plot(epoch_count, train_losses, label=\"Train loss\")\n",
        "plt.plot(epoch_count, val_losses, label=\"Val loss\")\n",
        "plt.title(\"Training and val loss curves\")\n",
        "plt.ylabel(\"Loss\")\n",
        "plt.xlabel(\"Epochs\")\n",
        "plt.legend();"
      ],
      "metadata": {
        "colab": {
          "base_uri": "https://localhost:8080/"
        },
        "id": "eN33O7FYlkzO",
        "outputId": "ccf64d45-fa5b-4cc6-f95c-eb3177e5a19e"
      },
      "execution_count": null,
      "outputs": [
        {
          "output_type": "display_data",
          "data": {
            "text/plain": [
              "<Figure size 432x288 with 1 Axes>"
            ],
            "image/png": "[encoded data removed]"
          },
          "metadata": {
            "needs_background": "light"
          }
        }
      ]
    },
    {
      "cell_type": "markdown",
      "source": [
        "### 훈련된 모델로 예측 값 생성하기"
      ],
      "metadata": {
        "id": "CdBuZEHomFsC"
      }
    },
    {
      "cell_type": "code",
      "source": [
        "from sklearn.metrics import mean_absolute_error \n",
        "\n",
        "model.eval()\n",
        "mae = 0.0\n",
        "predictions = []\n",
        "truths = []\n",
        "with torch.inference_mode():\n",
        "  for data in dataloaders['test']:\n",
        "    x,y = data[0], data[1]\n",
        "    outputs = model(x)\n",
        "    labels = y.cpu().detach().numpy().tolist()\n",
        "    preds = [output[0] for output in outputs.cpu().detach().numpy().tolist()]\n",
        "\n",
        "    truths += labels\n",
        "    predictions += preds\n",
        "\n",
        "    mae += mean_absolute_error(labels, preds)\n",
        "\n",
        "  mae /= len(dataloaders[\"test\"])\n",
        "mae"
      ],
      "metadata": {
        "colab": {
          "base_uri": "https://localhost:8080/"
        },
        "id": "RhFrZskQlq_9",
        "outputId": "cca5326c-49d7-40f0-b85b-33ec55686e00"
      },
      "execution_count": null,
      "outputs": [
        {
          "output_type": "execute_result",
          "data": {
            "text/plain": [
              "0.6657859710934905"
            ]
          },
          "metadata": {},
          "execution_count": 54
        }
      ]
    },
    {
      "cell_type": "code",
      "source": [],
      "metadata": {
        "id": "ES74CyWCmrtj"
      },
      "execution_count": null,
      "outputs": []
    }
  ]
}