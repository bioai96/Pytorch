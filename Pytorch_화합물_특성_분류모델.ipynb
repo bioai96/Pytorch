{
  "nbformat": 4,
  "nbformat_minor": 0,
  "metadata": {
    "colab": {
      "provenance": [],
      "machine_shape": "hm",
      "authorship_tag": "ABX9TyNDOLZz2GZTKYRCdduvyo+I",
      "include_colab_link": true
    },
    "kernelspec": {
      "name": "python3",
      "display_name": "Python 3"
    },
    "language_info": {
      "name": "python"
    },
    "accelerator": "TPU"
  },
  "cells": [
    {
      "cell_type": "markdown",
      "metadata": {
        "id": "view-in-github",
        "colab_type": "text"
      },
      "source": [
        "<a href=\"https://colab.research.google.com/github/bioai96/Pytorch/blob/main/Pytorch_%ED%99%94%ED%95%A9%EB%AC%BC_%ED%8A%B9%EC%84%B1_%EB%B6%84%EB%A5%98%EB%AA%A8%EB%8D%B8.ipynb\" target=\"_parent\"><img src=\"https://colab.research.google.com/assets/colab-badge.svg\" alt=\"Open In Colab\"/></a>"
      ]
    },
    {
      "cell_type": "markdown",
      "source": [
        "#화합물 특성 분류모델 실습\n",
        "BBB 막투과성 O, X 분류"
      ],
      "metadata": {
        "id": "GYYlqQzEvfvV"
      }
    },
    {
      "cell_type": "code",
      "execution_count": null,
      "metadata": {
        "colab": {
          "base_uri": "https://localhost:8080/"
        },
        "id": "LBnbmaAcvDSc",
        "outputId": "0bd21bce-911f-4c50-9925-a838d31da4e4"
      },
      "outputs": [
        {
          "output_type": "stream",
          "name": "stdout",
          "text": [
            "Looking in indexes: https://pypi.org/simple, https://us-python.pkg.dev/colab-wheels/public/simple/\n",
            "Collecting rdkit-pypi\n",
            "  Downloading rdkit_pypi-2022.3.5-cp37-cp37m-manylinux_2_17_x86_64.manylinux2014_x86_64.whl (36.8 MB)\n",
            "\u001b[K     |████████████████████████████████| 36.8 MB 1.2 MB/s \n",
            "\u001b[?25hRequirement already satisfied: numpy in /usr/local/lib/python3.7/dist-packages (from rdkit-pypi) (1.21.6)\n",
            "Requirement already satisfied: Pillow in /usr/local/lib/python3.7/dist-packages (from rdkit-pypi) (7.1.2)\n",
            "Installing collected packages: rdkit-pypi\n",
            "Successfully installed rdkit-pypi-2022.3.5\n"
          ]
        }
      ],
      "source": [
        "!pip install rdkit-pypi"
      ]
    },
    {
      "cell_type": "markdown",
      "source": [
        "### 1. 데이터 준비하기"
      ],
      "metadata": {
        "id": "r8lEgK3cwe38"
      }
    },
    {
      "cell_type": "code",
      "source": [
        "!wget https://s3-us-west-1.amazonaws.com/deepchem.io/datasets/molnet_publish/bbbp.zip\n",
        "!ls\n",
        "!unzip bbbp.zip"
      ],
      "metadata": {
        "colab": {
          "base_uri": "https://localhost:8080/"
        },
        "id": "NcHorJwnwet4",
        "outputId": "6bf3d272-d887-42d6-b5de-c195fc2984f4"
      },
      "execution_count": null,
      "outputs": [
        {
          "output_type": "stream",
          "name": "stdout",
          "text": [
            "--2022-09-22 01:14:32--  https://s3-us-west-1.amazonaws.com/deepchem.io/datasets/molnet_publish/bbbp.zip\n",
            "Resolving s3-us-west-1.amazonaws.com (s3-us-west-1.amazonaws.com)... 52.219.192.72\n",
            "Connecting to s3-us-west-1.amazonaws.com (s3-us-west-1.amazonaws.com)|52.219.192.72|:443... connected.\n",
            "HTTP request sent, awaiting response... 200 OK\n",
            "Length: 46174 (45K) [application/zip]\n",
            "Saving to: ‘bbbp.zip’\n",
            "\n",
            "bbbp.zip            100%[===================>]  45.09K  --.-KB/s    in 0.05s   \n",
            "\n",
            "2022-09-22 01:14:32 (845 KB/s) - ‘bbbp.zip’ saved [46174/46174]\n",
            "\n",
            "bbbp.zip  sample_data\n",
            "Archive:  bbbp.zip\n",
            "  inflating: BBBP.csv                \n",
            "  inflating: BBBP_README             \n"
          ]
        }
      ]
    },
    {
      "cell_type": "code",
      "source": [
        "import pandas as pd \n",
        "\n",
        "data = pd.read_csv(\"BBBP.csv\")\n",
        "data"
      ],
      "metadata": {
        "colab": {
          "base_uri": "https://localhost:8080/",
          "height": 424
        },
        "id": "Wjmw4qXTv2-q",
        "outputId": "b44c2285-0530-45f0-a9d6-06a6ab189689"
      },
      "execution_count": null,
      "outputs": [
        {
          "output_type": "execute_result",
          "data": {
            "text/plain": [
              "       num                               name  p_np  \\\n",
              "0        1                         Propanolol     1   \n",
              "1        2               Terbutylchlorambucil     1   \n",
              "2        3                              40730     1   \n",
              "3        4                                 24     1   \n",
              "4        5                        cloxacillin     1   \n",
              "...    ...                                ...   ...   \n",
              "2045  2049                         licostinel     1   \n",
              "2046  2050  ademetionine(adenosyl-methionine)     1   \n",
              "2047  2051                           mesocarb     1   \n",
              "2048  2052                         tofisoline     1   \n",
              "2049  2053                      azidamfenicol     1   \n",
              "\n",
              "                                                 smiles  \n",
              "0                      [Cl].CC(C)NCC(O)COc1cccc2ccccc12  \n",
              "1              C(=O)(OC(C)(C)C)CCCc1ccc(cc1)N(CCCl)CCCl  \n",
              "2     c12c3c(N4CCN(C)CC4)c(F)cc1c(c(C(O)=O)cn2C(C)CO...  \n",
              "3                      C1CCN(CC1)Cc1cccc(c1)OCCCNC(=O)C  \n",
              "4     Cc1onc(c2ccccc2Cl)c1C(=O)N[C@H]3[C@H]4SC(C)(C)...  \n",
              "...                                                 ...  \n",
              "2045    C1=C(Cl)C(=C(C2=C1NC(=O)C(N2)=O)[N+](=O)[O-])Cl  \n",
              "2046  [C@H]3([N]2C1=C(C(=NC=N1)N)N=C2)[C@@H]([C@@H](...  \n",
              "2047  [O+]1=N[N](C=C1[N-]C(NC2=CC=CC=C2)=O)C(CC3=CC=...  \n",
              "2048  C1=C(OC)C(=CC2=C1C(=[N+](C(=C2CC)C)[NH-])C3=CC...  \n",
              "2049  [N+](=NCC(=O)N[C@@H]([C@H](O)C1=CC=C([N+]([O-]...  \n",
              "\n",
              "[2050 rows x 4 columns]"
            ],
            "text/html": [
              "\n",
              "  <div id=\"df-15290bb9-8e7f-4d63-bee2-88449234abd8\">\n",
              "    <div class=\"colab-df-container\">\n",
              "      <div>\n",
              "<style scoped>\n",
              "    .dataframe tbody tr th:only-of-type {\n",
              "        vertical-align: middle;\n",
              "    }\n",
              "\n",
              "    .dataframe tbody tr th {\n",
              "        vertical-align: top;\n",
              "    }\n",
              "\n",
              "    .dataframe thead th {\n",
              "        text-align: right;\n",
              "    }\n",
              "</style>\n",
              "<table border=\"1\" class=\"dataframe\">\n",
              "  <thead>\n",
              "    <tr style=\"text-align: right;\">\n",
              "      <th></th>\n",
              "      <th>num</th>\n",
              "      <th>name</th>\n",
              "      <th>p_np</th>\n",
              "      <th>smiles</th>\n",
              "    </tr>\n",
              "  </thead>\n",
              "  <tbody>\n",
              "    <tr>\n",
              "      <th>0</th>\n",
              "      <td>1</td>\n",
              "      <td>Propanolol</td>\n",
              "      <td>1</td>\n",
              "      <td>[Cl].CC(C)NCC(O)COc1cccc2ccccc12</td>\n",
              "    </tr>\n",
              "    <tr>\n",
              "      <th>1</th>\n",
              "      <td>2</td>\n",
              "      <td>Terbutylchlorambucil</td>\n",
              "      <td>1</td>\n",
              "      <td>C(=O)(OC(C)(C)C)CCCc1ccc(cc1)N(CCCl)CCCl</td>\n",
              "    </tr>\n",
              "    <tr>\n",
              "      <th>2</th>\n",
              "      <td>3</td>\n",
              "      <td>40730</td>\n",
              "      <td>1</td>\n",
              "      <td>c12c3c(N4CCN(C)CC4)c(F)cc1c(c(C(O)=O)cn2C(C)CO...</td>\n",
              "    </tr>\n",
              "    <tr>\n",
              "      <th>3</th>\n",
              "      <td>4</td>\n",
              "      <td>24</td>\n",
              "      <td>1</td>\n",
              "      <td>C1CCN(CC1)Cc1cccc(c1)OCCCNC(=O)C</td>\n",
              "    </tr>\n",
              "    <tr>\n",
              "      <th>4</th>\n",
              "      <td>5</td>\n",
              "      <td>cloxacillin</td>\n",
              "      <td>1</td>\n",
              "      <td>Cc1onc(c2ccccc2Cl)c1C(=O)N[C@H]3[C@H]4SC(C)(C)...</td>\n",
              "    </tr>\n",
              "    <tr>\n",
              "      <th>...</th>\n",
              "      <td>...</td>\n",
              "      <td>...</td>\n",
              "      <td>...</td>\n",
              "      <td>...</td>\n",
              "    </tr>\n",
              "    <tr>\n",
              "      <th>2045</th>\n",
              "      <td>2049</td>\n",
              "      <td>licostinel</td>\n",
              "      <td>1</td>\n",
              "      <td>C1=C(Cl)C(=C(C2=C1NC(=O)C(N2)=O)[N+](=O)[O-])Cl</td>\n",
              "    </tr>\n",
              "    <tr>\n",
              "      <th>2046</th>\n",
              "      <td>2050</td>\n",
              "      <td>ademetionine(adenosyl-methionine)</td>\n",
              "      <td>1</td>\n",
              "      <td>[C@H]3([N]2C1=C(C(=NC=N1)N)N=C2)[C@@H]([C@@H](...</td>\n",
              "    </tr>\n",
              "    <tr>\n",
              "      <th>2047</th>\n",
              "      <td>2051</td>\n",
              "      <td>mesocarb</td>\n",
              "      <td>1</td>\n",
              "      <td>[O+]1=N[N](C=C1[N-]C(NC2=CC=CC=C2)=O)C(CC3=CC=...</td>\n",
              "    </tr>\n",
              "    <tr>\n",
              "      <th>2048</th>\n",
              "      <td>2052</td>\n",
              "      <td>tofisoline</td>\n",
              "      <td>1</td>\n",
              "      <td>C1=C(OC)C(=CC2=C1C(=[N+](C(=C2CC)C)[NH-])C3=CC...</td>\n",
              "    </tr>\n",
              "    <tr>\n",
              "      <th>2049</th>\n",
              "      <td>2053</td>\n",
              "      <td>azidamfenicol</td>\n",
              "      <td>1</td>\n",
              "      <td>[N+](=NCC(=O)N[C@@H]([C@H](O)C1=CC=C([N+]([O-]...</td>\n",
              "    </tr>\n",
              "  </tbody>\n",
              "</table>\n",
              "<p>2050 rows × 4 columns</p>\n",
              "</div>\n",
              "      <button class=\"colab-df-convert\" onclick=\"convertToInteractive('df-15290bb9-8e7f-4d63-bee2-88449234abd8')\"\n",
              "              title=\"Convert this dataframe to an interactive table.\"\n",
              "              style=\"display:none;\">\n",
              "        \n",
              "  <svg xmlns=\"http://www.w3.org/2000/svg\" height=\"24px\"viewBox=\"0 0 24 24\"\n",
              "       width=\"24px\">\n",
              "    <path d=\"M0 0h24v24H0V0z\" fill=\"none\"/>\n",
              "    <path d=\"M18.56 5.44l.94 2.06.94-2.06 2.06-.94-2.06-.94-.94-2.06-.94 2.06-2.06.94zm-11 1L8.5 8.5l.94-2.06 2.06-.94-2.06-.94L8.5 2.5l-.94 2.06-2.06.94zm10 10l.94 2.06.94-2.06 2.06-.94-2.06-.94-.94-2.06-.94 2.06-2.06.94z\"/><path d=\"M17.41 7.96l-1.37-1.37c-.4-.4-.92-.59-1.43-.59-.52 0-1.04.2-1.43.59L10.3 9.45l-7.72 7.72c-.78.78-.78 2.05 0 2.83L4 21.41c.39.39.9.59 1.41.59.51 0 1.02-.2 1.41-.59l7.78-7.78 2.81-2.81c.8-.78.8-2.07 0-2.86zM5.41 20L4 18.59l7.72-7.72 1.47 1.35L5.41 20z\"/>\n",
              "  </svg>\n",
              "      </button>\n",
              "      \n",
              "  <style>\n",
              "    .colab-df-container {\n",
              "      display:flex;\n",
              "      flex-wrap:wrap;\n",
              "      gap: 12px;\n",
              "    }\n",
              "\n",
              "    .colab-df-convert {\n",
              "      background-color: #E8F0FE;\n",
              "      border: none;\n",
              "      border-radius: 50%;\n",
              "      cursor: pointer;\n",
              "      display: none;\n",
              "      fill: #1967D2;\n",
              "      height: 32px;\n",
              "      padding: 0 0 0 0;\n",
              "      width: 32px;\n",
              "    }\n",
              "\n",
              "    .colab-df-convert:hover {\n",
              "      background-color: #E2EBFA;\n",
              "      box-shadow: 0px 1px 2px rgba(60, 64, 67, 0.3), 0px 1px 3px 1px rgba(60, 64, 67, 0.15);\n",
              "      fill: #174EA6;\n",
              "    }\n",
              "\n",
              "    [theme=dark] .colab-df-convert {\n",
              "      background-color: #3B4455;\n",
              "      fill: #D2E3FC;\n",
              "    }\n",
              "\n",
              "    [theme=dark] .colab-df-convert:hover {\n",
              "      background-color: #434B5C;\n",
              "      box-shadow: 0px 1px 3px 1px rgba(0, 0, 0, 0.15);\n",
              "      filter: drop-shadow(0px 1px 2px rgba(0, 0, 0, 0.3));\n",
              "      fill: #FFFFFF;\n",
              "    }\n",
              "  </style>\n",
              "\n",
              "      <script>\n",
              "        const buttonEl =\n",
              "          document.querySelector('#df-15290bb9-8e7f-4d63-bee2-88449234abd8 button.colab-df-convert');\n",
              "        buttonEl.style.display =\n",
              "          google.colab.kernel.accessAllowed ? 'block' : 'none';\n",
              "\n",
              "        async function convertToInteractive(key) {\n",
              "          const element = document.querySelector('#df-15290bb9-8e7f-4d63-bee2-88449234abd8');\n",
              "          const dataTable =\n",
              "            await google.colab.kernel.invokeFunction('convertToInteractive',\n",
              "                                                     [key], {});\n",
              "          if (!dataTable) return;\n",
              "\n",
              "          const docLinkHtml = 'Like what you see? Visit the ' +\n",
              "            '<a target=\"_blank\" href=https://colab.research.google.com/notebooks/data_table.ipynb>data table notebook</a>'\n",
              "            + ' to learn more about interactive tables.';\n",
              "          element.innerHTML = '';\n",
              "          dataTable['output_type'] = 'display_data';\n",
              "          await google.colab.output.renderOutput(dataTable, element);\n",
              "          const docLink = document.createElement('div');\n",
              "          docLink.innerHTML = docLinkHtml;\n",
              "          element.appendChild(docLink);\n",
              "        }\n",
              "      </script>\n",
              "    </div>\n",
              "  </div>\n",
              "  "
            ]
          },
          "metadata": {},
          "execution_count": 3
        }
      ]
    },
    {
      "cell_type": "code",
      "source": [
        "data['p_np'].value_counts()"
      ],
      "metadata": {
        "colab": {
          "base_uri": "https://localhost:8080/"
        },
        "id": "saPtx2vkxgcu",
        "outputId": "dcf70546-9a33-4fec-c05e-c2d590329f97"
      },
      "execution_count": null,
      "outputs": [
        {
          "output_type": "execute_result",
          "data": {
            "text/plain": [
              "1    1567\n",
              "0     483\n",
              "Name: p_np, dtype: int64"
            ]
          },
          "metadata": {},
          "execution_count": 7
        }
      ]
    },
    {
      "cell_type": "markdown",
      "source": [
        "#### SMILES ==> Finger Print"
      ],
      "metadata": {
        "id": "awaZrUK6w8fn"
      }
    },
    {
      "cell_type": "code",
      "source": [
        "from rdkit import Chem, DataStructs\n",
        "from rdkit.Chem import AllChem\n",
        "import numpy as np"
      ],
      "metadata": {
        "id": "Y_3VDy71wyvq"
      },
      "execution_count": null,
      "outputs": []
    },
    {
      "cell_type": "code",
      "source": [
        "idxs=[]\n",
        "for i, smiles in enumerate(data[\"smiles\"]):\n",
        "    mol = Chem.MolFromSmiles(smiles)\n",
        "    if (mol == None) :\n",
        "        print(i,mol)\n",
        "        idxs.append(i)"
      ],
      "metadata": {
        "colab": {
          "base_uri": "https://localhost:8080/"
        },
        "id": "fsHc-hCpxGTJ",
        "outputId": "0815e48d-129f-4e50-9c00-f72813f34150"
      },
      "execution_count": null,
      "outputs": [
        {
          "output_type": "stream",
          "name": "stdout",
          "text": [
            "59 None\n",
            "61 None\n",
            "391 None\n",
            "614 None\n",
            "642 None\n",
            "645 None\n",
            "646 None\n",
            "647 None\n",
            "648 None\n",
            "649 None\n",
            "685 None\n"
          ]
        }
      ]
    },
    {
      "cell_type": "code",
      "source": [
        "# mol\n",
        "Chem.MolFromSmiles(data.loc[60]['smiles'])"
      ],
      "metadata": {
        "colab": {
          "base_uri": "https://localhost:8080/"
        },
        "id": "mcNzMkZ61CLC",
        "outputId": "143b1d6c-19f8-461c-d416-0670815e2d2b"
      },
      "execution_count": null,
      "outputs": [
        {
          "output_type": "execute_result",
          "data": {
            "text/plain": [
              "<rdkit.Chem.rdchem.Mol at 0x7fc05e141d00>"
            ]
          },
          "metadata": {},
          "execution_count": 18
        }
      ]
    },
    {
      "cell_type": "code",
      "source": [
        "data = data.drop(idxs, axis= 0)"
      ],
      "metadata": {
        "id": "ww1xSvRDx9wI"
      },
      "execution_count": null,
      "outputs": []
    },
    {
      "cell_type": "code",
      "source": [
        "fps = []\n",
        "for i, smiles in enumerate(data[\"smiles\"]):\n",
        "    mol = Chem.MolFromSmiles(smiles)\n",
        "    arr = np.zeros((1,))\n",
        "    fp = AllChem.GetMorganFingerprintAsBitVect(mol, 2048)\n",
        "    DataStructs.ConvertToNumpyArray(fp, arr)\n",
        "\n",
        "    fps.append(fp)\n",
        "\n",
        "data['fp'] = fps\n",
        "data"
      ],
      "metadata": {
        "colab": {
          "base_uri": "https://localhost:8080/",
          "height": 815
        },
        "id": "Qmn8LZqSzWGy",
        "outputId": "b3081f48-2152-4f73-9ed6-38a4e1849913"
      },
      "execution_count": null,
      "outputs": [
        {
          "output_type": "execute_result",
          "data": {
            "text/plain": [
              "       num                               name  p_np  \\\n",
              "0        1                         Propanolol     1   \n",
              "1        2               Terbutylchlorambucil     1   \n",
              "2        3                              40730     1   \n",
              "3        4                                 24     1   \n",
              "4        5                        cloxacillin     1   \n",
              "...    ...                                ...   ...   \n",
              "2045  2049                         licostinel     1   \n",
              "2046  2050  ademetionine(adenosyl-methionine)     1   \n",
              "2047  2051                           mesocarb     1   \n",
              "2048  2052                         tofisoline     1   \n",
              "2049  2053                      azidamfenicol     1   \n",
              "\n",
              "                                                 smiles  \\\n",
              "0                      [Cl].CC(C)NCC(O)COc1cccc2ccccc12   \n",
              "1              C(=O)(OC(C)(C)C)CCCc1ccc(cc1)N(CCCl)CCCl   \n",
              "2     c12c3c(N4CCN(C)CC4)c(F)cc1c(c(C(O)=O)cn2C(C)CO...   \n",
              "3                      C1CCN(CC1)Cc1cccc(c1)OCCCNC(=O)C   \n",
              "4     Cc1onc(c2ccccc2Cl)c1C(=O)N[C@H]3[C@H]4SC(C)(C)...   \n",
              "...                                                 ...   \n",
              "2045    C1=C(Cl)C(=C(C2=C1NC(=O)C(N2)=O)[N+](=O)[O-])Cl   \n",
              "2046  [C@H]3([N]2C1=C(C(=NC=N1)N)N=C2)[C@@H]([C@@H](...   \n",
              "2047  [O+]1=N[N](C=C1[N-]C(NC2=CC=CC=C2)=O)C(CC3=CC=...   \n",
              "2048  C1=C(OC)C(=CC2=C1C(=[N+](C(=C2CC)C)[NH-])C3=CC...   \n",
              "2049  [N+](=NCC(=O)N[C@@H]([C@H](O)C1=CC=C([N+]([O-]...   \n",
              "\n",
              "                                                     fp  \n",
              "0     [0, 1, 0, 0, 0, 0, 0, 0, 1, 0, 0, 0, 0, 0, 0, ...  \n",
              "1     [0, 0, 0, 0, 0, 0, 0, 0, 0, 0, 0, 0, 0, 0, 0, ...  \n",
              "2     [0, 0, 0, 0, 0, 0, 0, 0, 0, 0, 0, 1, 0, 0, 1, ...  \n",
              "3     [0, 0, 1, 0, 0, 0, 0, 0, 0, 0, 0, 0, 1, 1, 0, ...  \n",
              "4     [0, 1, 0, 0, 0, 1, 0, 0, 0, 0, 0, 0, 0, 0, 0, ...  \n",
              "...                                                 ...  \n",
              "2045  [0, 0, 0, 0, 0, 0, 0, 0, 0, 0, 0, 0, 0, 0, 0, ...  \n",
              "2046  [0, 1, 0, 0, 0, 0, 0, 0, 0, 0, 0, 0, 0, 0, 0, ...  \n",
              "2047  [0, 1, 0, 0, 0, 0, 0, 0, 0, 0, 0, 0, 0, 0, 0, ...  \n",
              "2048  [0, 0, 0, 0, 0, 0, 0, 0, 0, 0, 0, 0, 0, 0, 0, ...  \n",
              "2049  [0, 1, 0, 0, 0, 0, 0, 0, 0, 0, 0, 0, 0, 0, 0, ...  \n",
              "\n",
              "[2039 rows x 5 columns]"
            ],
            "text/html": [
              "\n",
              "  <div id=\"df-f45a7dd3-e729-46ee-9006-18b4b760946e\">\n",
              "    <div class=\"colab-df-container\">\n",
              "      <div>\n",
              "<style scoped>\n",
              "    .dataframe tbody tr th:only-of-type {\n",
              "        vertical-align: middle;\n",
              "    }\n",
              "\n",
              "    .dataframe tbody tr th {\n",
              "        vertical-align: top;\n",
              "    }\n",
              "\n",
              "    .dataframe thead th {\n",
              "        text-align: right;\n",
              "    }\n",
              "</style>\n",
              "<table border=\"1\" class=\"dataframe\">\n",
              "  <thead>\n",
              "    <tr style=\"text-align: right;\">\n",
              "      <th></th>\n",
              "      <th>num</th>\n",
              "      <th>name</th>\n",
              "      <th>p_np</th>\n",
              "      <th>smiles</th>\n",
              "      <th>fp</th>\n",
              "    </tr>\n",
              "  </thead>\n",
              "  <tbody>\n",
              "    <tr>\n",
              "      <th>0</th>\n",
              "      <td>1</td>\n",
              "      <td>Propanolol</td>\n",
              "      <td>1</td>\n",
              "      <td>[Cl].CC(C)NCC(O)COc1cccc2ccccc12</td>\n",
              "      <td>[0, 1, 0, 0, 0, 0, 0, 0, 1, 0, 0, 0, 0, 0, 0, ...</td>\n",
              "    </tr>\n",
              "    <tr>\n",
              "      <th>1</th>\n",
              "      <td>2</td>\n",
              "      <td>Terbutylchlorambucil</td>\n",
              "      <td>1</td>\n",
              "      <td>C(=O)(OC(C)(C)C)CCCc1ccc(cc1)N(CCCl)CCCl</td>\n",
              "      <td>[0, 0, 0, 0, 0, 0, 0, 0, 0, 0, 0, 0, 0, 0, 0, ...</td>\n",
              "    </tr>\n",
              "    <tr>\n",
              "      <th>2</th>\n",
              "      <td>3</td>\n",
              "      <td>40730</td>\n",
              "      <td>1</td>\n",
              "      <td>c12c3c(N4CCN(C)CC4)c(F)cc1c(c(C(O)=O)cn2C(C)CO...</td>\n",
              "      <td>[0, 0, 0, 0, 0, 0, 0, 0, 0, 0, 0, 1, 0, 0, 1, ...</td>\n",
              "    </tr>\n",
              "    <tr>\n",
              "      <th>3</th>\n",
              "      <td>4</td>\n",
              "      <td>24</td>\n",
              "      <td>1</td>\n",
              "      <td>C1CCN(CC1)Cc1cccc(c1)OCCCNC(=O)C</td>\n",
              "      <td>[0, 0, 1, 0, 0, 0, 0, 0, 0, 0, 0, 0, 1, 1, 0, ...</td>\n",
              "    </tr>\n",
              "    <tr>\n",
              "      <th>4</th>\n",
              "      <td>5</td>\n",
              "      <td>cloxacillin</td>\n",
              "      <td>1</td>\n",
              "      <td>Cc1onc(c2ccccc2Cl)c1C(=O)N[C@H]3[C@H]4SC(C)(C)...</td>\n",
              "      <td>[0, 1, 0, 0, 0, 1, 0, 0, 0, 0, 0, 0, 0, 0, 0, ...</td>\n",
              "    </tr>\n",
              "    <tr>\n",
              "      <th>...</th>\n",
              "      <td>...</td>\n",
              "      <td>...</td>\n",
              "      <td>...</td>\n",
              "      <td>...</td>\n",
              "      <td>...</td>\n",
              "    </tr>\n",
              "    <tr>\n",
              "      <th>2045</th>\n",
              "      <td>2049</td>\n",
              "      <td>licostinel</td>\n",
              "      <td>1</td>\n",
              "      <td>C1=C(Cl)C(=C(C2=C1NC(=O)C(N2)=O)[N+](=O)[O-])Cl</td>\n",
              "      <td>[0, 0, 0, 0, 0, 0, 0, 0, 0, 0, 0, 0, 0, 0, 0, ...</td>\n",
              "    </tr>\n",
              "    <tr>\n",
              "      <th>2046</th>\n",
              "      <td>2050</td>\n",
              "      <td>ademetionine(adenosyl-methionine)</td>\n",
              "      <td>1</td>\n",
              "      <td>[C@H]3([N]2C1=C(C(=NC=N1)N)N=C2)[C@@H]([C@@H](...</td>\n",
              "      <td>[0, 1, 0, 0, 0, 0, 0, 0, 0, 0, 0, 0, 0, 0, 0, ...</td>\n",
              "    </tr>\n",
              "    <tr>\n",
              "      <th>2047</th>\n",
              "      <td>2051</td>\n",
              "      <td>mesocarb</td>\n",
              "      <td>1</td>\n",
              "      <td>[O+]1=N[N](C=C1[N-]C(NC2=CC=CC=C2)=O)C(CC3=CC=...</td>\n",
              "      <td>[0, 1, 0, 0, 0, 0, 0, 0, 0, 0, 0, 0, 0, 0, 0, ...</td>\n",
              "    </tr>\n",
              "    <tr>\n",
              "      <th>2048</th>\n",
              "      <td>2052</td>\n",
              "      <td>tofisoline</td>\n",
              "      <td>1</td>\n",
              "      <td>C1=C(OC)C(=CC2=C1C(=[N+](C(=C2CC)C)[NH-])C3=CC...</td>\n",
              "      <td>[0, 0, 0, 0, 0, 0, 0, 0, 0, 0, 0, 0, 0, 0, 0, ...</td>\n",
              "    </tr>\n",
              "    <tr>\n",
              "      <th>2049</th>\n",
              "      <td>2053</td>\n",
              "      <td>azidamfenicol</td>\n",
              "      <td>1</td>\n",
              "      <td>[N+](=NCC(=O)N[C@@H]([C@H](O)C1=CC=C([N+]([O-]...</td>\n",
              "      <td>[0, 1, 0, 0, 0, 0, 0, 0, 0, 0, 0, 0, 0, 0, 0, ...</td>\n",
              "    </tr>\n",
              "  </tbody>\n",
              "</table>\n",
              "<p>2039 rows × 5 columns</p>\n",
              "</div>\n",
              "      <button class=\"colab-df-convert\" onclick=\"convertToInteractive('df-f45a7dd3-e729-46ee-9006-18b4b760946e')\"\n",
              "              title=\"Convert this dataframe to an interactive table.\"\n",
              "              style=\"display:none;\">\n",
              "        \n",
              "  <svg xmlns=\"http://www.w3.org/2000/svg\" height=\"24px\"viewBox=\"0 0 24 24\"\n",
              "       width=\"24px\">\n",
              "    <path d=\"M0 0h24v24H0V0z\" fill=\"none\"/>\n",
              "    <path d=\"M18.56 5.44l.94 2.06.94-2.06 2.06-.94-2.06-.94-.94-2.06-.94 2.06-2.06.94zm-11 1L8.5 8.5l.94-2.06 2.06-.94-2.06-.94L8.5 2.5l-.94 2.06-2.06.94zm10 10l.94 2.06.94-2.06 2.06-.94-2.06-.94-.94-2.06-.94 2.06-2.06.94z\"/><path d=\"M17.41 7.96l-1.37-1.37c-.4-.4-.92-.59-1.43-.59-.52 0-1.04.2-1.43.59L10.3 9.45l-7.72 7.72c-.78.78-.78 2.05 0 2.83L4 21.41c.39.39.9.59 1.41.59.51 0 1.02-.2 1.41-.59l7.78-7.78 2.81-2.81c.8-.78.8-2.07 0-2.86zM5.41 20L4 18.59l7.72-7.72 1.47 1.35L5.41 20z\"/>\n",
              "  </svg>\n",
              "      </button>\n",
              "      \n",
              "  <style>\n",
              "    .colab-df-container {\n",
              "      display:flex;\n",
              "      flex-wrap:wrap;\n",
              "      gap: 12px;\n",
              "    }\n",
              "\n",
              "    .colab-df-convert {\n",
              "      background-color: #E8F0FE;\n",
              "      border: none;\n",
              "      border-radius: 50%;\n",
              "      cursor: pointer;\n",
              "      display: none;\n",
              "      fill: #1967D2;\n",
              "      height: 32px;\n",
              "      padding: 0 0 0 0;\n",
              "      width: 32px;\n",
              "    }\n",
              "\n",
              "    .colab-df-convert:hover {\n",
              "      background-color: #E2EBFA;\n",
              "      box-shadow: 0px 1px 2px rgba(60, 64, 67, 0.3), 0px 1px 3px 1px rgba(60, 64, 67, 0.15);\n",
              "      fill: #174EA6;\n",
              "    }\n",
              "\n",
              "    [theme=dark] .colab-df-convert {\n",
              "      background-color: #3B4455;\n",
              "      fill: #D2E3FC;\n",
              "    }\n",
              "\n",
              "    [theme=dark] .colab-df-convert:hover {\n",
              "      background-color: #434B5C;\n",
              "      box-shadow: 0px 1px 3px 1px rgba(0, 0, 0, 0.15);\n",
              "      filter: drop-shadow(0px 1px 2px rgba(0, 0, 0, 0.3));\n",
              "      fill: #FFFFFF;\n",
              "    }\n",
              "  </style>\n",
              "\n",
              "      <script>\n",
              "        const buttonEl =\n",
              "          document.querySelector('#df-f45a7dd3-e729-46ee-9006-18b4b760946e button.colab-df-convert');\n",
              "        buttonEl.style.display =\n",
              "          google.colab.kernel.accessAllowed ? 'block' : 'none';\n",
              "\n",
              "        async function convertToInteractive(key) {\n",
              "          const element = document.querySelector('#df-f45a7dd3-e729-46ee-9006-18b4b760946e');\n",
              "          const dataTable =\n",
              "            await google.colab.kernel.invokeFunction('convertToInteractive',\n",
              "                                                     [key], {});\n",
              "          if (!dataTable) return;\n",
              "\n",
              "          const docLinkHtml = 'Like what you see? Visit the ' +\n",
              "            '<a target=\"_blank\" href=https://colab.research.google.com/notebooks/data_table.ipynb>data table notebook</a>'\n",
              "            + ' to learn more about interactive tables.';\n",
              "          element.innerHTML = '';\n",
              "          dataTable['output_type'] = 'display_data';\n",
              "          await google.colab.output.renderOutput(dataTable, element);\n",
              "          const docLink = document.createElement('div');\n",
              "          docLink.innerHTML = docLinkHtml;\n",
              "          element.appendChild(docLink);\n",
              "        }\n",
              "      </script>\n",
              "    </div>\n",
              "  </div>\n",
              "  "
            ]
          },
          "metadata": {},
          "execution_count": 19
        }
      ]
    },
    {
      "cell_type": "markdown",
      "source": [
        "### 2. 훈련 데이터, 테스트 데이터 분할하기"
      ],
      "metadata": {
        "id": "x426-_hZ18RE"
      }
    },
    {
      "cell_type": "code",
      "source": [
        "from sklearn.model_selection import train_test_split\n",
        "\n",
        "train_val, test = train_test_split(data, test_size=0.1, random_state=42)\n",
        "train, val = train_test_split(train_val, test_size=0.1/0.9, random_state=42)\n",
        "\n",
        "datasets = {\n",
        "    \"train\" : train,\n",
        "    \"val\" : val,\n",
        "    \"test\" : test\n",
        "}\n",
        "\n",
        "datasets"
      ],
      "metadata": {
        "id": "Q-q3iWRM0NRW"
      },
      "execution_count": null,
      "outputs": []
    },
    {
      "cell_type": "markdown",
      "source": [
        "### 3. 커스텀 데이터세트 만들기"
      ],
      "metadata": {
        "id": "YHShMGpb22Mw"
      }
    },
    {
      "cell_type": "code",
      "source": [
        "import torch\n",
        "from torch.utils.data import Dataset\n",
        "\n",
        "class bbbpDataset(Dataset):\n",
        "\n",
        "    def __init__(self, df):\n",
        "        self.x = list(df[\"fp\"])\n",
        "        self.y = list(df[\"p_np\"].values)\n",
        "\n",
        "    def __len__(self):\n",
        "        return len(self.x)\n",
        "    # 이진분류, 다중 클래스 분류\n",
        "    # sigmoid, softmax\n",
        "    # logBCE, CE\n",
        "    # x,y\n",
        "    # tensor.float, tensor.float, tensor.float, tensor.Long(int64)\n",
        "\n",
        "    def __getitem__(self, index):\n",
        "        return torch.tensor(self.x[index]).float(), torch.tensor(self.y[index]).float()\n",
        "\n",
        "bbbpdata = {\n",
        "    \"train\": bbbpDataset(datasets[\"train\"]),\n",
        "    \"val\": bbbpDataset(datasets[\"val\"]),\n",
        "    \"test\": bbbpDataset(datasets[\"test\"])\n",
        "}\n",
        "\n",
        "bbbpdata\n"
      ],
      "metadata": {
        "colab": {
          "base_uri": "https://localhost:8080/"
        },
        "id": "4d19Lq5K2kI1",
        "outputId": "53315843-a15e-4d9b-dc69-8d88d928e634"
      },
      "execution_count": null,
      "outputs": [
        {
          "output_type": "execute_result",
          "data": {
            "text/plain": [
              "{'train': <__main__.bbbpDataset at 0x7fbfe4799a90>,\n",
              " 'val': <__main__.bbbpDataset at 0x7fbfe4799b90>,\n",
              " 'test': <__main__.bbbpDataset at 0x7fbfe47d7510>}"
            ]
          },
          "metadata": {},
          "execution_count": 40
        }
      ]
    },
    {
      "cell_type": "code",
      "source": [
        "from torch.utils.data import DataLoader\n",
        "\n",
        "bbbp_dataloaders = {\n",
        "    \"train\" : DataLoader(bbbpdata[\"train\"], batch_size=32, shuffle = True),\n",
        "    \"val\" : DataLoader(bbbpdata[\"val\"], batch_size=32, shuffle = False),\n",
        "    \"test\" : DataLoader(bbbpdata[\"test\"], batch_size=32, shuffle = False)\n",
        "}\n",
        "\n",
        "bbbp_dataloaders"
      ],
      "metadata": {
        "colab": {
          "base_uri": "https://localhost:8080/"
        },
        "id": "5XMvZua728yt",
        "outputId": "28716cbb-bcea-47f3-ba4c-92b1286a7dc1"
      },
      "execution_count": null,
      "outputs": [
        {
          "output_type": "execute_result",
          "data": {
            "text/plain": [
              "{'train': <torch.utils.data.dataloader.DataLoader at 0x7fbfe4799210>,\n",
              " 'val': <torch.utils.data.dataloader.DataLoader at 0x7fbfe4799390>,\n",
              " 'test': <torch.utils.data.dataloader.DataLoader at 0x7fbfe4799650>}"
            ]
          },
          "metadata": {},
          "execution_count": 41
        }
      ]
    },
    {
      "cell_type": "code",
      "source": [],
      "metadata": {
        "id": "CVQK6fI15oRA"
      },
      "execution_count": null,
      "outputs": []
    },
    {
      "cell_type": "code",
      "source": [
        "for data in bbbp_dataloaders[\"train\"]:\n",
        "    x, y = data\n",
        "    print(x.shape, y.shape)\n",
        "\n"
      ],
      "metadata": {
        "id": "zfc7SWow28N4"
      },
      "execution_count": null,
      "outputs": []
    },
    {
      "cell_type": "markdown",
      "source": [
        "### 4. 모델 만들기"
      ],
      "metadata": {
        "id": "w7z5XYsy7Qqq"
      }
    },
    {
      "cell_type": "code",
      "source": [
        "import torch\n",
        "from torch import nn\n",
        "device = \"cuda\" if torch.cuda.is_available() else \"cpu\"\n",
        "device"
      ],
      "metadata": {
        "colab": {
          "base_uri": "https://localhost:8080/",
          "height": 35
        },
        "id": "McBBZFE44wxo",
        "outputId": "d3470416-98f2-47f5-a3ef-cdde166ed0c0"
      },
      "execution_count": null,
      "outputs": [
        {
          "output_type": "execute_result",
          "data": {
            "text/plain": [
              "'cpu'"
            ],
            "application/vnd.google.colaboratory.intrinsic+json": {
              "type": "string"
            }
          },
          "metadata": {},
          "execution_count": 45
        }
      ]
    },
    {
      "cell_type": "code",
      "source": [
        "class bbbp_MLP(nn.Module):\n",
        "    def __init__(self):\n",
        "        super(bbbp_MLP, self).__init__()\n",
        "        self.linear1 = nn.Linear(2048,1024) # 완전 연결된 단순 레이어 만들기 \n",
        "        self.linear2 = nn.Linear(1024, 256)\n",
        "        self.output = nn.Linear(256,1) # 최종 예측을 위해 출력 부 크기 1로 설정\n",
        "        self.dropout1 = nn.Dropout(0.5) #일반화를 위한 Dropout\n",
        "        self.relu = nn.ReLU()\n",
        "\n",
        "    def forward(self,x) :\n",
        "        out = self.linear1(x)\n",
        "        out = self.dropout1(out)\n",
        "        out = self.relu(out)\n",
        "        out = self.linear2(out)\n",
        "        out = self.dropout1(out)\n",
        "        out = self.relu(out)\n",
        "        out = self.output(out)\n",
        "        return out\n",
        "model = bbbp_MLP()\n",
        "model.to(device) \n"
      ],
      "metadata": {
        "colab": {
          "base_uri": "https://localhost:8080/"
        },
        "id": "iBbj31Au7Xmt",
        "outputId": "308934fd-f045-4439-d1c2-b033971c39f9"
      },
      "execution_count": null,
      "outputs": [
        {
          "output_type": "execute_result",
          "data": {
            "text/plain": [
              "bbbp_MLP(\n",
              "  (linear1): Linear(in_features=2048, out_features=1024, bias=True)\n",
              "  (linear2): Linear(in_features=1024, out_features=256, bias=True)\n",
              "  (output): Linear(in_features=256, out_features=1, bias=True)\n",
              "  (dropout1): Dropout(p=0.5, inplace=False)\n",
              "  (relu): ReLU()\n",
              ")"
            ]
          },
          "metadata": {},
          "execution_count": 46
        }
      ]
    },
    {
      "cell_type": "markdown",
      "source": [
        "### 5. 손실 및 최적화 함수 설정"
      ],
      "metadata": {
        "id": "Bhvl51SO895X"
      }
    },
    {
      "cell_type": "code",
      "source": [
        "import torch.optim as optim\n",
        "\n",
        "loss_fn = nn.BCEWithLogitsLoss()\n",
        "optimizer = torch.optim.SGD(params = model.parameters(), lr = 0.1)\n",
        "\n",
        "def acc_fn(y_true, y_pred):\n",
        "    correct = torch.eq(y_true, y_pred).sum().item()\n",
        "    acc = (correct / len(y_pred)) * 100\n",
        "    return acc"
      ],
      "metadata": {
        "id": "RztXiUIg89vE"
      },
      "execution_count": null,
      "outputs": []
    },
    {
      "cell_type": "markdown",
      "source": [
        "### 6. 모델 학습하기"
      ],
      "metadata": {
        "id": "mMdSzAaRQGnp"
      }
    },
    {
      "cell_type": "code",
      "source": [
        "torch.manual_seed(42)\n",
        "\n",
        "epochs = 101\n",
        "\n",
        "train_losses = []\n",
        "val_losses = []\n",
        "train_accs = []\n",
        "val_accs = []\n",
        "\n",
        "for epoch in range(epochs):\n",
        "    model.train()\n",
        "    epoch_train_loss = 0.0\n",
        "\n",
        "    for i, data in enumerate(bbbp_dataloaders[\"train\"]):\n",
        "        x,y = data[0], data[1]\n",
        "        optimizer.zero_grad()\n",
        "\n",
        "        outputs = model(x)\n",
        "        train_loss = loss_fn(outputs, y.view(-1,1))\n",
        "        train_acc = acc_fn(torch.round(torch.sigmoid(outputs)), y.view(-1,1))\n",
        "        train_loss.backward()\n",
        "        optimizer.step()\n",
        "\n",
        "        epoch_train_loss += train_loss.item()\n",
        "\n",
        "    model.eval()\n",
        "    epoch_val_loss = 0.0\n",
        "    with torch.inference_mode():\n",
        "        for i, data in enumerate(bbbp_dataloaders[\"val\"]):\n",
        "            x,y = data[0].to(device), data[1].to(device)\n",
        "\n",
        "            outputs = model(x)\n",
        "            val_loss = loss_fn(outputs, y.view(-1,1))\n",
        "            val_acc= acc_fn(torch.round(torch.sigmoid(outputs)), y.view(-1,1))\n",
        "            epoch_val_loss += val_loss.item()\n",
        "\n",
        "        epoch_train_loss /= len(bbbp_dataloaders['train'])\n",
        "        epoch_val_loss /= len(bbbp_dataloaders['val'])\n",
        "        train_losses.append(epoch_train_loss)\n",
        "        val_losses.append(epoch_val_loss)\n",
        "        train_accs.append(train_acc)\n",
        "        val_accs.append(val_acc)\n",
        "\n",
        "        if epoch % 10 == 0:\n",
        "            print(\"[Epoch %d] Train Loss: %.3f Train acc: %.3f Validation Loss: %.3f Validation acc : %.3f\" %\n",
        "                  (epoch, epoch_train_loss, train_acc, epoch_val_loss, val_acc))\n",
        "\n",
        "  \n"
      ],
      "metadata": {
        "colab": {
          "base_uri": "https://localhost:8080/"
        },
        "id": "oWIdQGYu82wy",
        "outputId": "06b545a7-3a89-4b85-cb66-1725b7ba23de"
      },
      "execution_count": null,
      "outputs": [
        {
          "output_type": "stream",
          "name": "stdout",
          "text": [
            "[Epoch 0] Train Loss: 0.488 Train acc: 67.742 Validation Loss: 0.438 Validation acc : 91.667\n",
            "[Epoch 10] Train Loss: 0.044 Train acc: 100.000 Validation Loss: 0.527 Validation acc : 75.000\n",
            "[Epoch 20] Train Loss: 0.017 Train acc: 100.000 Validation Loss: 0.678 Validation acc : 75.000\n",
            "[Epoch 30] Train Loss: 0.015 Train acc: 100.000 Validation Loss: 0.732 Validation acc : 75.000\n",
            "[Epoch 40] Train Loss: 0.008 Train acc: 100.000 Validation Loss: 0.803 Validation acc : 75.000\n",
            "[Epoch 50] Train Loss: 0.006 Train acc: 100.000 Validation Loss: 0.789 Validation acc : 75.000\n",
            "[Epoch 60] Train Loss: 0.007 Train acc: 100.000 Validation Loss: 0.836 Validation acc : 75.000\n",
            "[Epoch 70] Train Loss: 0.010 Train acc: 100.000 Validation Loss: 0.849 Validation acc : 75.000\n",
            "[Epoch 80] Train Loss: 0.006 Train acc: 100.000 Validation Loss: 0.882 Validation acc : 75.000\n",
            "[Epoch 90] Train Loss: 0.005 Train acc: 100.000 Validation Loss: 0.920 Validation acc : 75.000\n",
            "[Epoch 100] Train Loss: 0.005 Train acc: 100.000 Validation Loss: 0.944 Validation acc : 75.000\n"
          ]
        }
      ]
    },
    {
      "cell_type": "markdown",
      "source": [
        "### 7. 결과 리포팅하기"
      ],
      "metadata": {
        "id": "x2-j3j5uUPJ4"
      }
    },
    {
      "cell_type": "code",
      "source": [
        "import matplotlib.pyplot as plt \n",
        "\n",
        "epoch_count = range(epochs)\n",
        "plt.plot(epoch_count, train_losses, label = \"Train loss\")\n",
        "plt.plot(epoch_count, val_losses, label=\"Val loss\")\n",
        "plt.title(\"Training and val loss curves\")\n",
        "plt.ylabel(\"Loss\")\n",
        "plt.xlabel(\"Epochs\")\n",
        "plt.legend()"
      ],
      "metadata": {
        "colab": {
          "base_uri": "https://localhost:8080/",
          "height": 313
        },
        "id": "ctFYdBiSS0AC",
        "outputId": "b7c6a7b4-d309-4d05-d998-5c180546a6da"
      },
      "execution_count": null,
      "outputs": [
        {
          "output_type": "execute_result",
          "data": {
            "text/plain": [
              "<matplotlib.legend.Legend at 0x7fbfda9063d0>"
            ]
          },
          "metadata": {},
          "execution_count": 53
        },
        {
          "output_type": "display_data",
          "data": {
            "text/plain": [
              "<Figure size 432x288 with 1 Axes>"
            ],
            "image/png": "[encoded data removed]"
          },
          "metadata": {
            "needs_background": "light"
          }
        }
      ]
    },
    {
      "cell_type": "code",
      "source": [
        "epoch_count = range(epochs)\n",
        "plt.plot(epoch_count, train_accs, label=\"Train acc\")\n",
        "plt.plot(epoch_count, val_accs, label=\"Val acc\")\n",
        "plt.title(\"Training and val acc curves\")\n",
        "plt.ylabel(\"acc\")\n",
        "plt.xlabel(\"Epochs\")\n",
        "plt.legend();"
      ],
      "metadata": {
        "colab": {
          "base_uri": "https://localhost:8080/",
          "height": 295
        },
        "id": "9G6iuiByUuFu",
        "outputId": "a789bbf7-f1b6-41b0-952e-0cd2c2dcabcb"
      },
      "execution_count": null,
      "outputs": [
        {
          "output_type": "display_data",
          "data": {
            "text/plain": [
              "<Figure size 432x288 with 1 Axes>"
            ],
            "image/png": "[encoded data removed]"
          },
          "metadata": {
            "needs_background": "light"
          }
        }
      ]
    },
    {
      "cell_type": "code",
      "source": [],
      "metadata": {
        "id": "cwRGDO2RU-AD"
      },
      "execution_count": null,
      "outputs": []
    }
  ]
}