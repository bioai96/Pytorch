{
  "nbformat": 4,
  "nbformat_minor": 0,
  "metadata": {
    "colab": {
      "provenance": [],
      "collapsed_sections": [],
      "authorship_tag": "ABX9TyMt027fxghoEna1i+KswDDU",
      "include_colab_link": true
    },
    "kernelspec": {
      "name": "python3",
      "display_name": "Python 3"
    },
    "language_info": {
      "name": "python"
    },
    "accelerator": "TPU"
  },
  "cells": [
    {
      "cell_type": "markdown",
      "metadata": {
        "id": "view-in-github",
        "colab_type": "text"
      },
      "source": [
        "<a href=\"https://colab.research.google.com/github/bioai96/Pytorch/blob/main/Pytorch_%EA%B3%B5%EB%B6%80.ipynb\" target=\"_parent\"><img src=\"https://colab.research.google.com/assets/colab-badge.svg\" alt=\"Open In Colab\"/></a>"
      ]
    },
    {
      "cell_type": "code",
      "execution_count": null,
      "metadata": {
        "id": "DG0j1OM0b3KX",
        "colab": {
          "base_uri": "https://localhost:8080/"
        },
        "outputId": "5a18ed19-9f6a-408a-d900-57d547a9aaca"
      },
      "outputs": [
        {
          "output_type": "stream",
          "name": "stdout",
          "text": [
            "1.12.1+cu113\n",
            "False\n"
          ]
        }
      ],
      "source": [
        "import torch\n",
        "print(torch.__version__)\n",
        "print(torch.cuda.is_available())\n",
        "#print(torch.cuda.get_device_name())\n",
        "#print(torch.cuda.device_count())"
      ]
    },
    {
      "cell_type": "code",
      "source": [
        "x = torch.Tensor(3,4)\n",
        "print(x)"
      ],
      "metadata": {
        "colab": {
          "base_uri": "https://localhost:8080/"
        },
        "id": "TWMZNQgOdV_V",
        "outputId": "769ad31d-368e-4d04-8a3a-735d4e90ef38"
      },
      "execution_count": null,
      "outputs": [
        {
          "output_type": "stream",
          "name": "stdout",
          "text": [
            "tensor([[2.9919e-35, 0.0000e+00, 5.0447e-44, 0.0000e+00],\n",
            "        [       nan, 1.4013e-45, 1.3788e-14, 3.6423e-06],\n",
            "        [2.0699e-19, 3.3738e-12, 7.4086e+28, 6.9397e+22]])\n"
          ]
        }
      ]
    },
    {
      "cell_type": "code",
      "source": [],
      "metadata": {
        "id": "suKY6K-wdio0"
      },
      "execution_count": null,
      "outputs": []
    },
    {
      "cell_type": "markdown",
      "source": [
        "## Tensor"
      ],
      "metadata": {
        "id": "TP9sL7sTeK2h"
      }
    },
    {
      "cell_type": "code",
      "source": [
        "t1 = torch.tensor(7)\n",
        "t1"
      ],
      "metadata": {
        "colab": {
          "base_uri": "https://localhost:8080/"
        },
        "id": "poFqbp-OeL9M",
        "outputId": "4642e94f-0b37-4881-a0d7-afd5423e35f0"
      },
      "execution_count": null,
      "outputs": [
        {
          "output_type": "execute_result",
          "data": {
            "text/plain": [
              "tensor(7)"
            ]
          },
          "metadata": {},
          "execution_count": 8
        }
      ]
    },
    {
      "cell_type": "code",
      "source": [
        "t1.ndim # 차원"
      ],
      "metadata": {
        "colab": {
          "base_uri": "https://localhost:8080/"
        },
        "id": "7HLgMhTGewZc",
        "outputId": "92792fa3-8fba-4853-d61f-c8cacc9dae80"
      },
      "execution_count": null,
      "outputs": [
        {
          "output_type": "execute_result",
          "data": {
            "text/plain": [
              "0"
            ]
          },
          "metadata": {},
          "execution_count": 9
        }
      ]
    },
    {
      "cell_type": "code",
      "source": [
        "t2 = torch.tensor(4.)\n",
        "t2"
      ],
      "metadata": {
        "colab": {
          "base_uri": "https://localhost:8080/"
        },
        "id": "wWc9BTGOe9tU",
        "outputId": "ac14469b-409b-4a16-a6ca-be9d7905e241"
      },
      "execution_count": null,
      "outputs": [
        {
          "output_type": "execute_result",
          "data": {
            "text/plain": [
              "tensor(4.)"
            ]
          },
          "metadata": {},
          "execution_count": 10
        }
      ]
    },
    {
      "cell_type": "code",
      "source": [
        "print(t2.dtype)\n",
        "print(t2.ndim)"
      ],
      "metadata": {
        "colab": {
          "base_uri": "https://localhost:8080/"
        },
        "id": "J0xm-R-CfCsM",
        "outputId": "219bde15-055f-4684-d921-7807822eca1a"
      },
      "execution_count": null,
      "outputs": [
        {
          "output_type": "stream",
          "name": "stdout",
          "text": [
            "torch.float32\n",
            "0\n"
          ]
        }
      ]
    },
    {
      "cell_type": "code",
      "source": [
        "t3 = torch.tensor([1.,2,3,4])\n",
        "print(t3)\n",
        "print(t3.dtype)\n",
        "print(t3.ndim)\n",
        "# [] 1차원"
      ],
      "metadata": {
        "colab": {
          "base_uri": "https://localhost:8080/"
        },
        "id": "7FRbJ8TkfTXU",
        "outputId": "566916db-accc-46f0-cd71-11b94c910804"
      },
      "execution_count": null,
      "outputs": [
        {
          "output_type": "stream",
          "name": "stdout",
          "text": [
            "tensor([1., 2., 3., 4.])\n",
            "torch.float32\n",
            "1\n"
          ]
        }
      ]
    },
    {
      "cell_type": "code",
      "source": [
        "t4 = torch.tensor([[5,6],\n",
        "                  [7,8],\n",
        "                  [9,10]])\n",
        "print(t4)\n",
        "print(t4.dtype)\n",
        "print(t4.ndim)\n",
        "# [[]] 2차원"
      ],
      "metadata": {
        "colab": {
          "base_uri": "https://localhost:8080/"
        },
        "id": "xWDgeRkpfiNU",
        "outputId": "190d0f14-b005-45d7-9bbb-3d6b8ac06d08"
      },
      "execution_count": null,
      "outputs": [
        {
          "output_type": "stream",
          "name": "stdout",
          "text": [
            "tensor([[ 5,  6],\n",
            "        [ 7,  8],\n",
            "        [ 9, 10]])\n",
            "torch.int64\n",
            "2\n"
          ]
        }
      ]
    },
    {
      "cell_type": "code",
      "source": [
        "t5 = torch.tensor([[[1,2,3],\n",
        "                   [3,4,5],\n",
        "                   [5,6,7]]])\n",
        "print(t5)\n",
        "print(t5.dtype)\n",
        "print(t5.ndim)\n",
        "# [[[]]] 3차원"
      ],
      "metadata": {
        "colab": {
          "base_uri": "https://localhost:8080/"
        },
        "id": "m5hFROTmfudU",
        "outputId": "7d6a3b53-b31f-47ff-c5ab-8552805255df"
      },
      "execution_count": null,
      "outputs": [
        {
          "output_type": "stream",
          "name": "stdout",
          "text": [
            "tensor([[[1, 2, 3],\n",
            "         [3, 4, 5],\n",
            "         [5, 6, 7]]])\n",
            "torch.int64\n",
            "3\n"
          ]
        }
      ]
    },
    {
      "cell_type": "code",
      "source": [
        "t5.shape\n",
        "# 0 : 제일 바깥 []\n",
        "# 1 : 중간 []\n",
        "# 2 : 제일 안에 [] "
      ],
      "metadata": {
        "colab": {
          "base_uri": "https://localhost:8080/"
        },
        "id": "GWhOILztf_Dk",
        "outputId": "63a25917-f52a-48bb-9f52-89fddce8a077"
      },
      "execution_count": null,
      "outputs": [
        {
          "output_type": "execute_result",
          "data": {
            "text/plain": [
              "torch.Size([1, 3, 3])"
            ]
          },
          "metadata": {},
          "execution_count": 20
        }
      ]
    },
    {
      "cell_type": "code",
      "source": [
        "# 난수 텐서 만들기 \n",
        "r_t = torch.rand(size=(3,4))\n",
        "r_t, r_t.dtype\n"
      ],
      "metadata": {
        "colab": {
          "base_uri": "https://localhost:8080/"
        },
        "id": "gslX3TDNgYzb",
        "outputId": "d8524de1-3869-4eb2-ad10-e4e684b2dba3"
      },
      "execution_count": null,
      "outputs": [
        {
          "output_type": "execute_result",
          "data": {
            "text/plain": [
              "(tensor([[0.1134, 0.1925, 0.4627, 0.1945],\n",
              "         [0.4607, 0.7195, 0.5061, 0.3382],\n",
              "         [0.9736, 0.8887, 0.8785, 0.6344]]), torch.float32)"
            ]
          },
          "metadata": {},
          "execution_count": 23
        }
      ]
    },
    {
      "cell_type": "code",
      "source": [
        "# 이미지 텐서\n",
        "r_t2 = torch.rand(size=(224,244,3))\n",
        "r_t2, r_t2.shape, r_t2.ndim"
      ],
      "metadata": {
        "colab": {
          "base_uri": "https://localhost:8080/"
        },
        "id": "EgA5kp9Xg85O",
        "outputId": "0a09efae-a246-4bef-e9c3-5204125d66ec"
      },
      "execution_count": null,
      "outputs": [
        {
          "output_type": "execute_result",
          "data": {
            "text/plain": [
              "(tensor([[[0.9062, 0.6851, 0.2942],\n",
              "          [0.3034, 0.1560, 0.5886],\n",
              "          [0.7316, 0.9977, 0.4443],\n",
              "          ...,\n",
              "          [0.7968, 0.7263, 0.6403],\n",
              "          [0.4737, 0.7487, 0.9254],\n",
              "          [0.1131, 0.0405, 0.6139]],\n",
              " \n",
              "         [[0.6921, 0.1944, 0.7459],\n",
              "          [0.3394, 0.5260, 0.3712],\n",
              "          [0.9353, 0.2106, 0.7807],\n",
              "          ...,\n",
              "          [0.2859, 0.8782, 0.0352],\n",
              "          [0.6284, 0.5231, 0.7431],\n",
              "          [0.5421, 0.6513, 0.9144]],\n",
              " \n",
              "         [[0.5889, 0.6713, 0.4374],\n",
              "          [0.3182, 0.5404, 0.7697],\n",
              "          [0.3092, 0.3858, 0.4423],\n",
              "          ...,\n",
              "          [0.5717, 0.5104, 0.1542],\n",
              "          [0.6602, 0.2463, 0.5517],\n",
              "          [0.9386, 0.6197, 0.7566]],\n",
              " \n",
              "         ...,\n",
              " \n",
              "         [[0.1047, 0.2450, 0.1425],\n",
              "          [0.5075, 0.2777, 0.6478],\n",
              "          [0.3239, 0.0885, 0.0070],\n",
              "          ...,\n",
              "          [0.6956, 0.0167, 0.9483],\n",
              "          [0.8437, 0.5536, 0.1357],\n",
              "          [0.3454, 0.4084, 0.1885]],\n",
              " \n",
              "         [[0.7279, 0.7240, 0.9324],\n",
              "          [0.4536, 0.8495, 0.2169],\n",
              "          [0.8165, 0.5149, 0.3190],\n",
              "          ...,\n",
              "          [0.0354, 0.7978, 0.1037],\n",
              "          [0.7171, 0.2992, 0.5561],\n",
              "          [0.8971, 0.1128, 0.4805]],\n",
              " \n",
              "         [[0.0250, 0.8839, 0.3809],\n",
              "          [0.7756, 0.8309, 0.4895],\n",
              "          [0.1638, 0.6641, 0.8294],\n",
              "          ...,\n",
              "          [0.4793, 0.0541, 0.0297],\n",
              "          [0.3597, 0.9819, 0.2618],\n",
              "          [0.7488, 0.9096, 0.5785]]]), torch.Size([224, 244, 3]), 3)"
            ]
          },
          "metadata": {},
          "execution_count": 24
        }
      ]
    },
    {
      "cell_type": "code",
      "source": [
        "# 0과1 텐서 - 초기값\n",
        "z_t = torch.zeros(size=(2,3))\n",
        "z_t, z_t.dtype"
      ],
      "metadata": {
        "colab": {
          "base_uri": "https://localhost:8080/"
        },
        "id": "ZJbnEeBlhLek",
        "outputId": "1dc05c38-3946-4de4-9202-8486b03e44d9"
      },
      "execution_count": null,
      "outputs": [
        {
          "output_type": "execute_result",
          "data": {
            "text/plain": [
              "(tensor([[0., 0., 0.],\n",
              "         [0., 0., 0.]]), torch.float32)"
            ]
          },
          "metadata": {},
          "execution_count": 26
        }
      ]
    },
    {
      "cell_type": "code",
      "source": [
        "z_t = torch.ones(size=(2,3))\n",
        "z_t, z_t.dtype"
      ],
      "metadata": {
        "colab": {
          "base_uri": "https://localhost:8080/"
        },
        "id": "ocUtFlGqhY2d",
        "outputId": "21540065-fe4b-4383-a190-408225dccecd"
      },
      "execution_count": null,
      "outputs": [
        {
          "output_type": "execute_result",
          "data": {
            "text/plain": [
              "(tensor([[1., 1., 1.],\n",
              "         [1., 1., 1.]]), torch.float32)"
            ]
          },
          "metadata": {},
          "execution_count": 27
        }
      ]
    },
    {
      "cell_type": "code",
      "source": [
        "# 특정 범위 값\n",
        "r_t = torch.range(0,9)\n",
        "r_t, r_t.dim, r_t.shape"
      ],
      "metadata": {
        "colab": {
          "base_uri": "https://localhost:8080/"
        },
        "id": "eb5rYGsUheIk",
        "outputId": "aa14edd6-7d94-421a-d4ea-c1979180be2b"
      },
      "execution_count": null,
      "outputs": [
        {
          "output_type": "stream",
          "name": "stderr",
          "text": [
            "/usr/local/lib/python3.7/dist-packages/ipykernel_launcher.py:2: UserWarning: torch.range is deprecated and will be removed in a future release because its behavior is inconsistent with Python's range builtin. Instead, use torch.arange, which produces values in [start, end).\n",
            "  \n"
          ]
        },
        {
          "output_type": "execute_result",
          "data": {
            "text/plain": [
              "(tensor([0., 1., 2., 3., 4., 5., 6., 7., 8., 9.]),\n",
              " <function Tensor.dim>,\n",
              " torch.Size([10]))"
            ]
          },
          "metadata": {},
          "execution_count": 31
        }
      ]
    },
    {
      "cell_type": "code",
      "source": [
        "# 기존 텐서와 동일한 크기의 텐서 만들기 0\n",
        "r_t2 = torch.zeros_like(r_t)\n",
        "r_t2, r_t2.ndim, r_t2.shape"
      ],
      "metadata": {
        "colab": {
          "base_uri": "https://localhost:8080/"
        },
        "id": "NP7zTQkdhnw0",
        "outputId": "6e37b6bd-808c-46db-8d31-ce0a94399e5d"
      },
      "execution_count": null,
      "outputs": [
        {
          "output_type": "execute_result",
          "data": {
            "text/plain": [
              "(tensor([0., 0., 0., 0., 0., 0., 0., 0., 0., 0.]), 1, torch.Size([10]))"
            ]
          },
          "metadata": {},
          "execution_count": 32
        }
      ]
    },
    {
      "cell_type": "code",
      "source": [
        "r_t3=torch.ones_like(r_t)\n",
        "r_t3, r_t3.ndim, r_t3.shape"
      ],
      "metadata": {
        "colab": {
          "base_uri": "https://localhost:8080/"
        },
        "id": "JX5Y9Ehzh83d",
        "outputId": "dbf6b26e-5460-4283-e1c5-c189bd660aa0"
      },
      "execution_count": null,
      "outputs": [
        {
          "output_type": "execute_result",
          "data": {
            "text/plain": [
              "(tensor([1., 1., 1., 1., 1., 1., 1., 1., 1., 1.]), 1, torch.Size([10]))"
            ]
          },
          "metadata": {},
          "execution_count": 33
        }
      ]
    },
    {
      "cell_type": "code",
      "source": [
        "r_t4=torch.range(0,10,2)\n",
        "r_t4, r_t4.ndim, r_t4.shape"
      ],
      "metadata": {
        "colab": {
          "base_uri": "https://localhost:8080/"
        },
        "id": "ejqjiquph-eN",
        "outputId": "80dd2976-8c14-4215-ba64-eee088f20132"
      },
      "execution_count": null,
      "outputs": [
        {
          "output_type": "stream",
          "name": "stderr",
          "text": [
            "/usr/local/lib/python3.7/dist-packages/ipykernel_launcher.py:1: UserWarning: torch.range is deprecated and will be removed in a future release because its behavior is inconsistent with Python's range builtin. Instead, use torch.arange, which produces values in [start, end).\n",
            "  \"\"\"Entry point for launching an IPython kernel.\n"
          ]
        },
        {
          "output_type": "execute_result",
          "data": {
            "text/plain": [
              "(tensor([ 0.,  2.,  4.,  6.,  8., 10.]), 1, torch.Size([6]))"
            ]
          },
          "metadata": {},
          "execution_count": 34
        }
      ]
    },
    {
      "cell_type": "code",
      "source": [
        "# 텐서의 데이터 타입 \n",
        "f_t =torch.tensor([3.0,6.0,9.0])\n",
        "f_t.shape, f_t.dtype, f_t.device"
      ],
      "metadata": {
        "colab": {
          "base_uri": "https://localhost:8080/"
        },
        "id": "aIM84xn3iKE0",
        "outputId": "e70b005a-9848-48eb-8f61-aa9a067e02cd"
      },
      "execution_count": null,
      "outputs": [
        {
          "output_type": "execute_result",
          "data": {
            "text/plain": [
              "(torch.Size([3]), torch.float32, device(type='cpu'))"
            ]
          },
          "metadata": {},
          "execution_count": 36
        }
      ]
    },
    {
      "cell_type": "code",
      "source": [
        "f_t2 = torch.tensor([3.0, 6.0, 9.0], dtype=torch.float16)\n",
        "f_t2.shape, f_t2.dtype, f_t2.device"
      ],
      "metadata": {
        "colab": {
          "base_uri": "https://localhost:8080/"
        },
        "id": "7tIIHo0miocM",
        "outputId": "b3216c51-c7c3-4ca4-8edd-9c52502d5224"
      },
      "execution_count": null,
      "outputs": [
        {
          "output_type": "execute_result",
          "data": {
            "text/plain": [
              "(torch.Size([1, 3]), torch.float16, device(type='cpu'))"
            ]
          },
          "metadata": {},
          "execution_count": 38
        }
      ]
    },
    {
      "cell_type": "code",
      "source": [
        "## 텐서 연산\n",
        "#4개 텐서\n",
        "x = torch.tensor(3.)\n",
        "w = torch.tensor(4., requires_grad=True)\n",
        "b = torch.tensor(5., requires_grad=True)\n",
        "mu = torch.tensor([1,2,3])\n",
        "x, w, b, mu"
      ],
      "metadata": {
        "colab": {
          "base_uri": "https://localhost:8080/"
        },
        "id": "diEHe1GMiyMs",
        "outputId": "e9ae2676-69cf-4c0d-9f0e-5528e41a1773"
      },
      "execution_count": null,
      "outputs": [
        {
          "output_type": "execute_result",
          "data": {
            "text/plain": [
              "(tensor(3.),\n",
              " tensor(4., requires_grad=True),\n",
              " tensor(5., requires_grad=True),\n",
              " tensor([1, 2, 3]))"
            ]
          },
          "metadata": {},
          "execution_count": 46
        }
      ]
    },
    {
      "cell_type": "code",
      "source": [
        "x*3, w+1, b/5, mu * mu , torch.matmul(mu,mu) # 행렬 곱\n",
        "#단순 곱셈은 [1*1,2*2, 3*3] = [1,4,9]\n",
        "#행렬곱은 [1*1+2*2+3*3] = [14]"
      ],
      "metadata": {
        "colab": {
          "base_uri": "https://localhost:8080/"
        },
        "id": "th8cpI9UjfhO",
        "outputId": "72294530-9dc3-4a58-e28f-7e655290fb48"
      },
      "execution_count": null,
      "outputs": [
        {
          "output_type": "execute_result",
          "data": {
            "text/plain": [
              "(tensor(9.),\n",
              " tensor(5., grad_fn=<AddBackward0>),\n",
              " tensor(1., grad_fn=<DivBackward0>),\n",
              " tensor([1, 4, 9]),\n",
              " tensor(14))"
            ]
          },
          "metadata": {},
          "execution_count": 40
        }
      ]
    },
    {
      "cell_type": "code",
      "source": [
        "tensor_A = torch.tensor([[1, 2],\n",
        "                         [3, 4],\n",
        "                         [5, 6]], dtype=torch.float32)\n",
        "tensor_B = torch.tensor([[7, 10],\n",
        "                         [8, 11], \n",
        "                         [9, 12]], dtype=torch.float32)\n",
        "#torch.matmul(tensor_A, tensor_B) -->  ERROR\n",
        "torch.matmul(tensor_A, tensor_B.T)"
      ],
      "metadata": {
        "colab": {
          "base_uri": "https://localhost:8080/"
        },
        "id": "uR-MGeSEjwaV",
        "outputId": "af73869f-32b4-43f3-9781-ec426468e9a5"
      },
      "execution_count": null,
      "outputs": [
        {
          "output_type": "execute_result",
          "data": {
            "text/plain": [
              "tensor([[ 27.,  30.,  33.],\n",
              "        [ 61.,  68.,  75.],\n",
              "        [ 95., 106., 117.]])"
            ]
          },
          "metadata": {},
          "execution_count": 42
        }
      ]
    },
    {
      "cell_type": "code",
      "source": [
        "# 일차 방정식\n",
        "y=w*x+b\n",
        "y"
      ],
      "metadata": {
        "colab": {
          "base_uri": "https://localhost:8080/"
        },
        "id": "6Gh8zUWgkGne",
        "outputId": "40b0eff3-20d3-4f11-d046-cb075470a11c"
      },
      "execution_count": null,
      "outputs": [
        {
          "output_type": "execute_result",
          "data": {
            "text/plain": [
              "tensor(17., grad_fn=<AddBackward0>)"
            ]
          },
          "metadata": {},
          "execution_count": 52
        }
      ]
    },
    {
      "cell_type": "code",
      "source": [
        "# 미분 계산\n",
        "y.backward() # 역전파"
      ],
      "metadata": {
        "id": "kiLNe_wukjrf"
      },
      "execution_count": null,
      "outputs": []
    },
    {
      "cell_type": "code",
      "source": [
        "\"dy/dx :\", x.grad, 'dy/dw:', w.grad, 'dy/db:', b.grad "
      ],
      "metadata": {
        "colab": {
          "base_uri": "https://localhost:8080/"
        },
        "id": "gwOfzhG4ky3-",
        "outputId": "659a5834-dc50-4606-fca0-0d7d8807bff3"
      },
      "execution_count": null,
      "outputs": [
        {
          "output_type": "execute_result",
          "data": {
            "text/plain": [
              "('dy/dx :', None, 'dy/dw:', tensor(3.), 'dy/db:', tensor(1.))"
            ]
          },
          "metadata": {},
          "execution_count": 54
        }
      ]
    },
    {
      "cell_type": "code",
      "source": [
        "## 텐서 다루기 함수 공부\n",
        "import torch \n",
        "x = torch.arange(1.,10.)\n",
        "x, x.shape\n"
      ],
      "metadata": {
        "colab": {
          "base_uri": "https://localhost:8080/"
        },
        "id": "NJWyho15lJyd",
        "outputId": "eb196051-00f1-453d-daf7-5f6363e40489"
      },
      "execution_count": null,
      "outputs": [
        {
          "output_type": "execute_result",
          "data": {
            "text/plain": [
              "(tensor([1., 2., 3., 4., 5., 6., 7., 8., 9.]), torch.Size([9]))"
            ]
          },
          "metadata": {},
          "execution_count": 75
        }
      ]
    },
    {
      "cell_type": "code",
      "source": [
        "#torch.reshape : input의 모양을  shape  로 바꿔줌\n",
        "x_reshaped=x.reshape(1,9)\n",
        "x_reshaped, x_reshaped.shape, x_reshaped.ndim"
      ],
      "metadata": {
        "colab": {
          "base_uri": "https://localhost:8080/"
        },
        "id": "t7U9Wm5wlq_V",
        "outputId": "6292143a-c011-4040-b330-2f2834202f1d"
      },
      "execution_count": null,
      "outputs": [
        {
          "output_type": "execute_result",
          "data": {
            "text/plain": [
              "(tensor([[1., 2., 3., 4., 5., 6., 7., 8., 9.]]), torch.Size([1, 9]), 2)"
            ]
          },
          "metadata": {},
          "execution_count": 84
        }
      ]
    },
    {
      "cell_type": "code",
      "source": [
        "# torch.view : shape 입력 모양을 반환하지만, 원본 텐서는 그대로 유지\n",
        "x_view = x.view(1,9)\n",
        "x_view, x_view.shape"
      ],
      "metadata": {
        "colab": {
          "base_uri": "https://localhost:8080/"
        },
        "id": "ZFbf-uHil5C9",
        "outputId": "956f2927-53e1-48f0-d435-ec63a770ecda"
      },
      "execution_count": null,
      "outputs": [
        {
          "output_type": "execute_result",
          "data": {
            "text/plain": [
              "(tensor([[1., 2., 3., 4., 5., 6., 7., 8., 9.]]), torch.Size([1, 9]))"
            ]
          },
          "metadata": {},
          "execution_count": 85
        }
      ]
    },
    {
      "cell_type": "code",
      "source": [
        "#torch.stacked : 정해진 행, 열을 기준으로 텐서를 쌓음\n",
        "x_stacked = torch.stack([x, x, x, x], dim=0)\n",
        "x_stacked"
      ],
      "metadata": {
        "colab": {
          "base_uri": "https://localhost:8080/"
        },
        "id": "ngwy3jpTmKNd",
        "outputId": "f65dbbcc-fe2f-406c-8a16-5e3303d7791f"
      },
      "execution_count": null,
      "outputs": [
        {
          "output_type": "execute_result",
          "data": {
            "text/plain": [
              "tensor([[1., 2., 3., 4., 5., 6., 7., 8., 9.],\n",
              "        [1., 2., 3., 4., 5., 6., 7., 8., 9.],\n",
              "        [1., 2., 3., 4., 5., 6., 7., 8., 9.],\n",
              "        [1., 2., 3., 4., 5., 6., 7., 8., 9.]])"
            ]
          },
          "metadata": {},
          "execution_count": 86
        }
      ]
    },
    {
      "cell_type": "code",
      "source": [
        "# torch.squeeze : 모든 차원을 제거해서 1차원으로 반환 \n",
        "x_squeezed = x_reshaped .squeeze()\n",
        "x_squeezed, x_squeezed.shape"
      ],
      "metadata": {
        "colab": {
          "base_uri": "https://localhost:8080/"
        },
        "id": "3QqfIgDvmPrt",
        "outputId": "605282e0-04d9-406f-ed51-4bacd69dff77"
      },
      "execution_count": null,
      "outputs": [
        {
          "output_type": "execute_result",
          "data": {
            "text/plain": [
              "(tensor([1., 2., 3., 4., 5., 6., 7., 8., 9.]), torch.Size([9]))"
            ]
          },
          "metadata": {},
          "execution_count": 88
        }
      ]
    },
    {
      "cell_type": "code",
      "source": [
        "x_un=x_squeezed.unsqueeze(dim=0)\n",
        "x_un, x_un.shape"
      ],
      "metadata": {
        "colab": {
          "base_uri": "https://localhost:8080/"
        },
        "id": "sDYeB-HX8I4X",
        "outputId": "c4189323-d00e-4b46-c3f0-b93ace820b33"
      },
      "execution_count": null,
      "outputs": [
        {
          "output_type": "execute_result",
          "data": {
            "text/plain": [
              "(tensor([[1., 2., 3., 4., 5., 6., 7., 8., 9.]]), torch.Size([1, 9]))"
            ]
          },
          "metadata": {},
          "execution_count": 89
        }
      ]
    },
    {
      "cell_type": "code",
      "source": [
        "# 인덱싱\n",
        "x = torch.tensor([[[1,2,3],\n",
        "                   [4,5,6],\n",
        "                   [7,8,9]]])\n",
        "x, x.shape"
      ],
      "metadata": {
        "colab": {
          "base_uri": "https://localhost:8080/"
        },
        "id": "yiJmHWnq9bYw",
        "outputId": "23b96035-740d-4ef5-ebde-e4cb4bd9d11f"
      },
      "execution_count": null,
      "outputs": [
        {
          "output_type": "execute_result",
          "data": {
            "text/plain": [
              "(tensor([[[1, 2, 3],\n",
              "          [4, 5, 6],\n",
              "          [7, 8, 9]]]), torch.Size([1, 3, 3]))"
            ]
          },
          "metadata": {},
          "execution_count": 90
        }
      ]
    },
    {
      "cell_type": "code",
      "source": [
        "x[0]"
      ],
      "metadata": {
        "colab": {
          "base_uri": "https://localhost:8080/"
        },
        "id": "-Q8Wa7oy9rI4",
        "outputId": "924b9721-6478-46b1-e799-2e5b4b7c8592"
      },
      "execution_count": null,
      "outputs": [
        {
          "output_type": "execute_result",
          "data": {
            "text/plain": [
              "tensor([[1, 2, 3],\n",
              "        [4, 5, 6],\n",
              "        [7, 8, 9]])"
            ]
          },
          "metadata": {},
          "execution_count": 91
        }
      ]
    },
    {
      "cell_type": "code",
      "source": [
        "x[0][0]"
      ],
      "metadata": {
        "colab": {
          "base_uri": "https://localhost:8080/"
        },
        "id": "x1gafiwB9xW5",
        "outputId": "9b4f1517-f9cf-4e55-e2cb-5cae20cbd1f3"
      },
      "execution_count": null,
      "outputs": [
        {
          "output_type": "execute_result",
          "data": {
            "text/plain": [
              "tensor([1, 2, 3])"
            ]
          },
          "metadata": {},
          "execution_count": 92
        }
      ]
    },
    {
      "cell_type": "code",
      "source": [
        "x[0][0][0]"
      ],
      "metadata": {
        "colab": {
          "base_uri": "https://localhost:8080/"
        },
        "id": "jxPjK6_L92YY",
        "outputId": "be4efb7e-e5fc-4ff9-cbe6-f38efb6f95ca"
      },
      "execution_count": null,
      "outputs": [
        {
          "output_type": "execute_result",
          "data": {
            "text/plain": [
              "tensor(1)"
            ]
          },
          "metadata": {},
          "execution_count": 94
        }
      ]
    },
    {
      "cell_type": "code",
      "source": [
        "x[:,0]"
      ],
      "metadata": {
        "colab": {
          "base_uri": "https://localhost:8080/"
        },
        "id": "xNqueM8J94v4",
        "outputId": "c0cd07cd-defe-46df-ed51-7d8a527327c0"
      },
      "execution_count": null,
      "outputs": [
        {
          "output_type": "execute_result",
          "data": {
            "text/plain": [
              "tensor([[1, 2, 3]])"
            ]
          },
          "metadata": {},
          "execution_count": 96
        }
      ]
    },
    {
      "cell_type": "code",
      "source": [
        "x[:,:,1]"
      ],
      "metadata": {
        "colab": {
          "base_uri": "https://localhost:8080/"
        },
        "id": "aK7qCPyf-Bzy",
        "outputId": "ef7c5812-aba5-4453-eec5-e0b79924873e"
      },
      "execution_count": null,
      "outputs": [
        {
          "output_type": "execute_result",
          "data": {
            "text/plain": [
              "tensor([[2, 5, 8]])"
            ]
          },
          "metadata": {},
          "execution_count": 98
        }
      ]
    },
    {
      "cell_type": "code",
      "source": [
        "x[:,1,1]"
      ],
      "metadata": {
        "colab": {
          "base_uri": "https://localhost:8080/"
        },
        "id": "osCv2BbS-LsA",
        "outputId": "15609b54-07a0-45f4-a78d-09c235ec49a3"
      },
      "execution_count": null,
      "outputs": [
        {
          "output_type": "execute_result",
          "data": {
            "text/plain": [
              "tensor([5])"
            ]
          },
          "metadata": {},
          "execution_count": 99
        }
      ]
    },
    {
      "cell_type": "code",
      "source": [
        "x[0,0,:]"
      ],
      "metadata": {
        "colab": {
          "base_uri": "https://localhost:8080/"
        },
        "id": "S1-RiC7Z-R3g",
        "outputId": "37b0853e-649c-4bc0-f4b6-eed13a9d606d"
      },
      "execution_count": null,
      "outputs": [
        {
          "output_type": "execute_result",
          "data": {
            "text/plain": [
              "tensor([1, 2, 3])"
            ]
          },
          "metadata": {},
          "execution_count": 100
        }
      ]
    },
    {
      "cell_type": "code",
      "source": [
        "# with Numpy\n",
        "import numpy as np\n",
        "x = np.array([[1, 2], [3, 4.]])\n",
        "x"
      ],
      "metadata": {
        "colab": {
          "base_uri": "https://localhost:8080/"
        },
        "id": "zWJBVWbI-ay4",
        "outputId": "17ec4ca1-bcff-4ff0-d9eb-04b4f3a8fd09"
      },
      "execution_count": null,
      "outputs": [
        {
          "output_type": "execute_result",
          "data": {
            "text/plain": [
              "array([[1., 2.],\n",
              "       [3., 4.]])"
            ]
          },
          "metadata": {},
          "execution_count": 101
        }
      ]
    },
    {
      "cell_type": "code",
      "source": [
        "y = torch.from_numpy(x)\n",
        "y"
      ],
      "metadata": {
        "colab": {
          "base_uri": "https://localhost:8080/"
        },
        "id": "TMd0j3BS-lLf",
        "outputId": "35263f49-eb80-43c2-bfbf-f3c259ac8be0"
      },
      "execution_count": null,
      "outputs": [
        {
          "output_type": "execute_result",
          "data": {
            "text/plain": [
              "tensor([[1., 2.],\n",
              "        [3., 4.]], dtype=torch.float64)"
            ]
          },
          "metadata": {},
          "execution_count": 102
        }
      ]
    },
    {
      "cell_type": "code",
      "source": [
        "x.dtype, y.dtype"
      ],
      "metadata": {
        "colab": {
          "base_uri": "https://localhost:8080/"
        },
        "id": "x276O-OM-pUw",
        "outputId": "4c6e326c-7006-446d-ceb7-9b0e72b4fc5e"
      },
      "execution_count": null,
      "outputs": [
        {
          "output_type": "execute_result",
          "data": {
            "text/plain": [
              "(dtype('float64'), torch.float64)"
            ]
          },
          "metadata": {},
          "execution_count": 103
        }
      ]
    },
    {
      "cell_type": "code",
      "source": [
        "z = y.numpy()\n",
        "z"
      ],
      "metadata": {
        "colab": {
          "base_uri": "https://localhost:8080/"
        },
        "id": "ndUJNpyH-t1I",
        "outputId": "618b3be0-1f5a-40e3-8dff-2848fbf4a676"
      },
      "execution_count": null,
      "outputs": [
        {
          "output_type": "execute_result",
          "data": {
            "text/plain": [
              "array([[1., 2.],\n",
              "       [3., 4.]])"
            ]
          },
          "metadata": {},
          "execution_count": 104
        }
      ]
    },
    {
      "cell_type": "code",
      "source": [],
      "metadata": {
        "id": "3Mh3DgBG-yXI"
      },
      "execution_count": null,
      "outputs": []
    }
  ]
}